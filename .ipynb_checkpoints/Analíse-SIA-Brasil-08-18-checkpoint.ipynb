{
 "cells": [
  {
   "cell_type": "markdown",
   "metadata": {},
   "source": [
    "# Analíse da Produção Ambulatorial do Brasil de 2008-2018\n",
    "### Avaliando os Laudos Diversos\n",
    "\n",
    "Rodrigo Silva\n",
    "\n",
    "2018-08-12"
   ]
  },
  {
   "cell_type": "markdown",
   "metadata": {},
   "source": [
    "##### 1. Dependências"
   ]
  },
  {
   "cell_type": "code",
   "execution_count": 1,
   "metadata": {},
   "outputs": [],
   "source": [
    "if (! (\"read.dbc\" %in% rownames(installed.packages()))) { install.packages(\"read.dbc\") }"
   ]
  },
  {
   "cell_type": "code",
   "execution_count": 2,
   "metadata": {},
   "outputs": [],
   "source": [
    "if (! (\"future.apply\" %in% rownames(installed.packages()))) { install.packages(\"future.apply\") }"
   ]
  },
  {
   "cell_type": "code",
   "execution_count": 3,
   "metadata": {},
   "outputs": [],
   "source": [
    "library(\"read.dbc\")"
   ]
  },
  {
   "cell_type": "code",
   "execution_count": 4,
   "metadata": {},
   "outputs": [
    {
     "name": "stderr",
     "output_type": "stream",
     "text": [
      "Loading required package: future\n",
      "\n",
      "Attaching package: ‘future.apply’\n",
      "\n",
      "The following object is masked from ‘package:future’:\n",
      "\n",
      "    future_lapply\n",
      "\n"
     ]
    }
   ],
   "source": [
    "library(future.apply)"
   ]
  },
  {
   "cell_type": "code",
   "execution_count": 5,
   "metadata": {},
   "outputs": [
    {
     "name": "stderr",
     "output_type": "stream",
     "text": [
      "\n",
      "Attaching package: ‘dplyr’\n",
      "\n",
      "The following objects are masked from ‘package:stats’:\n",
      "\n",
      "    filter, lag\n",
      "\n",
      "The following objects are masked from ‘package:base’:\n",
      "\n",
      "    intersect, setdiff, setequal, union\n",
      "\n"
     ]
    }
   ],
   "source": [
    "library(dplyr)"
   ]
  },
  {
   "cell_type": "code",
   "execution_count": 6,
   "metadata": {},
   "outputs": [],
   "source": [
    "path_dados <- '/Users/rsilva/Documents/LAIS/OpenSUS/Dados/SIA/dados'"
   ]
  },
  {
   "cell_type": "code",
   "execution_count": 7,
   "metadata": {},
   "outputs": [],
   "source": [
    "path_save <- '/Users/rsilva/Documents/LAIS/OpenSUS/Dados/SIA/resultados'"
   ]
  },
  {
   "cell_type": "markdown",
   "metadata": {},
   "source": [
    "##### 2. Funções"
   ]
  },
  {
   "cell_type": "code",
   "execution_count": 8,
   "metadata": {},
   "outputs": [],
   "source": [
    "reduce_AD = function(data){\n",
    "#     tmp <- lapply(data, function(x) subset(x, select = c(\n",
    "#                                                         \"AP_AUTORIZ\",\n",
    "#                                                         \"AP_APACANT\",\n",
    "#                                                         \"AP_CMP\",\n",
    "#                                                         \"AP_PRIPAL\",\n",
    "#                                                         \"AP_VL_AP\",\n",
    "#                                                         \"AP_TPUPS\",\n",
    "#                                                         \"AP_CNSPCN\",\n",
    "#                                                         \"AP_NUIDADE\",\n",
    "#                                                         \"AP_SEXO\",\n",
    "#                                                         \"AP_RACACOR\",\n",
    "#                                                         \"AP_CEPPCN\",\n",
    "#                                                         \"AP_UFDIF\",\n",
    "#                                                         \"AP_MNDIF\",\n",
    "#                                                         \"AP_DTINIC\",\n",
    "#                                                         \"AP_DTFIM\",\n",
    "#                                                         \"AP_TPAPAC\",\n",
    "#                                                         \"AP_MOTSAI\",\n",
    "#                                                         \"AP_OBITO\",\n",
    "#                                                         \"AP_ENCERR\",\n",
    "#                                                         \"AP_PERMAN\",\n",
    "#                                                         \"AP_ALTA\",\n",
    "#                                                         \"AP_TRANSF\",\n",
    "#                                                         \"AP_CIDCAS\",\n",
    "#                                                         \"AP_CIDPRI\",\n",
    "#                                                         \"AP_CIDSEC\",\n",
    "#                                                         \"AP_ETNIA\")))\n",
    "\n",
    "    tmp <- data %>%\n",
    "        select(\"AP_AUTORIZ\", \"AP_APACANT\", \"AP_CMP\", \"AP_PRIPAL\", \"AP_VL_AP\", \"AP_TPUPS\", \"AP_CNSPCN\", \"AP_NUIDADE\",\n",
    "               \"AP_SEXO\", \"AP_RACACOR\", \"AP_CEPPCN\", \"AP_UFDIF\", \"AP_MNDIF\", \"AP_DTINIC\", \"AP_DTFIM\", \"AP_TPAPAC\",\n",
    "               \"AP_MOTSAI\", \"AP_OBITO\", \"AP_ENCERR\", \"AP_PERMAN\", \"AP_ALTA\", \"AP_TRANSF\", \"AP_CIDCAS\", \"AP_CIDPRI\",\n",
    "               \"AP_CIDSEC\", \"AP_ETNIA\")\n",
    "    \n",
    "    return(tmp)\n",
    "}"
   ]
  },
  {
   "cell_type": "code",
   "execution_count": 9,
   "metadata": {},
   "outputs": [],
   "source": [
    "readDBC = function(file){\n",
    "  \n",
    "    setwd(path_dados)\n",
    "  \n",
    "    tmp <- read.dbc(file)\n",
    "  \n",
    "    res <- reduce_AD(tmp)\n",
    "  \n",
    "    res <- droplevels(res)\n",
    "  \n",
    "    return(res)\n",
    "}"
   ]
  },
  {
   "cell_type": "markdown",
   "metadata": {},
   "source": [
    "##### 3. Analíse"
   ]
  },
  {
   "cell_type": "code",
   "execution_count": 10,
   "metadata": {},
   "outputs": [],
   "source": [
    "pattern <- \"AD\""
   ]
  },
  {
   "cell_type": "code",
   "execution_count": 11,
   "metadata": {},
   "outputs": [
    {
     "ename": "ERROR",
     "evalue": "Error: Unexpected result (of class ‘NULL’ != ‘FutureResult’) retrieved for MulticoreFuture future (label = ‘<none>’, expression = ‘{; ...future.globals.maxSize.org <- getOption(\"future.globals.maxSize\"); if (!identical(...future.globals.maxSize.org, ...future.globals.maxSize)) {; oopts <- options(future.globals.maxSize = ...future.globals.maxSize); on.exit(options(oopts), add = TRUE); }; ...; ...future.FUN(...future.X_jj, ...); }); }’): \n",
     "execution_count": 11,
     "output_type": "error",
     "traceback": [
      "Error: Unexpected result (of class ‘NULL’ != ‘FutureResult’) retrieved for MulticoreFuture future (label = ‘<none>’, expression = ‘{; ...future.globals.maxSize.org <- getOption(\"future.globals.maxSize\"); if (!identical(...future.globals.maxSize.org, ...future.globals.maxSize)) {; oopts <- options(future.globals.maxSize = ...future.globals.maxSize); on.exit(options(oopts), add = TRUE); }; ...; ...future.FUN(...future.X_jj, ...); }); }’): \nTraceback:\n",
      "1. future_lapply(listoffiles, readDBC)",
      "2. values(fs)",
      "3. values.list(fs)",
      "4. value(tmp, ...)",
      "5. value.Future(tmp, ...)",
      "6. result(future)",
      "7. result.MulticoreFuture(future)"
     ]
    }
   ],
   "source": [
    "filestrsave <- \"apac-laudos_08-18.csv\"\n",
    "\n",
    "# listando os arquivos\n",
    "listoffiles <- list.files(path_dados, pattern = pattern)\n",
    "\n",
    "# definindo quantos núcleos para o paralelismo\n",
    "plan(multiprocess, workers = 2)\n",
    "\n",
    "# abrindo os arquivos\n",
    "t1 <- Sys.time()\n",
    "myfiles = future_lapply(listoffiles, readDBC)\n",
    "\n",
    "t2 <- Sys.time()\n",
    "\n",
    "# unificando todos os arquivos em um só\n",
    "result = do.call(rbind, myfiles)\n",
    "t3 <- Sys.time()\n",
    "\n",
    "# salvando o arquivo reduzido\n",
    "setwd(path_save)\n",
    "write.csv2(result, filestrsave, row.names=FALSE)\n",
    "\n",
    "gc()"
   ]
  },
  {
   "cell_type": "code",
   "execution_count": null,
   "metadata": {},
   "outputs": [],
   "source": [
    "sprintf('Tempo consumido...')\n",
    "sprintf('Abrindo arquivos : %d', t2-t1)\n",
    "sprintf('Unindo arquivos : %d', t3-t2)"
   ]
  },
  {
   "cell_type": "code",
   "execution_count": null,
   "metadata": {},
   "outputs": [],
   "source": []
  }
 ],
 "metadata": {
  "kernelspec": {
   "display_name": "R",
   "language": "R",
   "name": "ir"
  },
  "language_info": {
   "codemirror_mode": "r",
   "file_extension": ".r",
   "mimetype": "text/x-r-source",
   "name": "R",
   "pygments_lexer": "r",
   "version": "3.5.0"
  }
 },
 "nbformat": 4,
 "nbformat_minor": 2
}
