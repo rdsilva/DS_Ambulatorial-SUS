{
 "cells": [
  {
   "cell_type": "markdown",
   "metadata": {},
   "source": [
    "## Análise da Produção Ambulatorial do RN (2008/2018) focada em Sífilis\n",
    "\n",
    "\n",
    "> O objetivo aqui é avaliar a produção ambulatorial informada via SIASUS, no período de Jan/2008 até Abr/2018, focando nos procedimentos e CIDs relacionadas à Sífilis\n",
    "\n",
    "\n",
    "\n",
    "\n",
    "**Não tem informação interessante sobre sífilis nos dados do SIASUS**"
   ]
  },
  {
   "cell_type": "code",
   "execution_count": 1,
   "metadata": {
    "collapsed": true
   },
   "outputs": [],
   "source": [
    "med <- read.csv2(\"apac-laudos_08-18.csv\", header=TRUE, encoding=\"UTF-8\")"
   ]
  },
  {
   "cell_type": "code",
   "execution_count": 37,
   "metadata": {
    "scrolled": true
   },
   "outputs": [
    {
     "data": {
      "text/plain": [
       "   AP_AUTORIZ                AP_APACANT         AP_CMP      \n",
       " Min.   :2.407e+12   0000000000000:598825   Min.   :200801  \n",
       " 1st Qu.:2.410e+12   0            :  9241   1st Qu.:201003  \n",
       " Median :2.412e+12   2415207245803:    18   Median :201202  \n",
       " Mean   :2.412e+12   2415207168540:    13   Mean   :201214  \n",
       " 3rd Qu.:2.414e+12   2416207274305:    13   3rd Qu.:201412  \n",
       " Max.   :2.419e+12   (Other)      : 54926   Max.   :201804  \n",
       "                     NA's         :    49                   \n",
       "   AP_PRIPAL            AP_VL_AP         AP_TPUPS    \n",
       " Min.   :201010569   Min.   :   0.0   Min.   : 2.00  \n",
       " 1st Qu.:211070319   1st Qu.:  48.9   1st Qu.:36.00  \n",
       " Median :301080100   Median : 187.3   Median :39.00  \n",
       " Mean   :327951031   Mean   : 311.6   Mean   :42.94  \n",
       " 3rd Qu.:405050372   3rd Qu.: 614.7   3rd Qu.:70.00  \n",
       " Max.   :701030321   Max.   :8359.0   Max.   :70.00  \n",
       "                                                     \n",
       "                                                                   AP_CNSPCN     \n",
       " {{{{{{{{{{{{{{{                                                        : 22555  \n",
       " <U+0083><U+0084><U+0083>{{{{<U+0080><U+0084>|<U+0082>|<U+0082><U+0084>}:   100  \n",
       " <U+0083><U+0084><U+0083>{{{{<U+0080><U+0084>|{<U+0083>\\177{~           :    97  \n",
       " <U+0083><U+0084><U+0083>{{{{<U+0080><U+0084>|<U+0082>}{<U+0080><U+0080>:    97  \n",
       " <U+0083><U+0084><U+0083>{{{{<U+0080><U+0084>|<U+0083>{<U+0081>{{       :    93  \n",
       " (Other)                                                                :640141  \n",
       " NA's                                                                   :     2  \n",
       "   AP_NUIDADE    AP_SEXO      AP_RACACOR      AP_CEPPCN       \n",
       " Min.   : 0.00   F:356615   Min.   : 1.00   Min.   :       0  \n",
       " 1st Qu.:33.00   M:306470   1st Qu.: 3.00   1st Qu.:59115270  \n",
       " Median :51.00              Median :99.00   Median :59300000  \n",
       " Mean   :48.67              Mean   :71.16   Mean   :59362056  \n",
       " 3rd Qu.:67.00              3rd Qu.:99.00   3rd Qu.:59600991  \n",
       " Max.   :99.00              Max.   :99.00   Max.   :99150000  \n",
       "                                                              \n",
       "    AP_UFDIF          AP_MNDIF   AP_DTINIC           AP_DTFIM       \n",
       " Min.   :0.00000   Min.   :0   Min.   :20080101   Min.   :20080101  \n",
       " 1st Qu.:0.00000   1st Qu.:1   1st Qu.:20100201   1st Qu.:20100331  \n",
       " Median :0.00000   Median :1   Median :20120201   Median :20120331  \n",
       " Mean   :0.00802   Mean   :1   Mean   :20121303   Mean   :20121617  \n",
       " 3rd Qu.:0.00000   3rd Qu.:1   3rd Qu.:20141201   3rd Qu.:20141231  \n",
       " Max.   :1.00000   Max.   :1   Max.   :20180430   Max.   :20190331  \n",
       "                                                                    \n",
       "   AP_TPAPAC       AP_MOTSAI        AP_OBITO           AP_ENCERR       \n",
       " Min.   :1.000   Min.   :11.00   Min.   :0.0000000   Min.   :0.000000  \n",
       " 1st Qu.:2.000   1st Qu.:15.00   1st Qu.:0.0000000   1st Qu.:0.000000  \n",
       " Median :3.000   Median :15.00   Median :0.0000000   Median :0.000000  \n",
       " Mean   :2.399   Mean   :16.92   Mean   :0.0001056   Mean   :0.005524  \n",
       " 3rd Qu.:3.000   3rd Qu.:21.00   3rd Qu.:0.0000000   3rd Qu.:0.000000  \n",
       " Max.   :3.000   Max.   :51.00   Max.   :1.0000000   Max.   :1.000000  \n",
       "                                                                       \n",
       "   AP_PERMAN         AP_ALTA         AP_TRANSF           AP_CIDCAS     \n",
       " Min.   :0.0000   Min.   :0.0000   Min.   :0.0000000   0000   :617528  \n",
       " 1st Qu.:0.0000   1st Qu.:0.0000   1st Qu.:0.0000000   H250   : 20451  \n",
       " Median :0.0000   Median :1.0000   Median :0.0000000   N200   :  8567  \n",
       " Mean   :0.3833   Mean   :0.6105   Mean   :0.0005384   H264   :  5044  \n",
       " 3rd Qu.:1.0000   3rd Qu.:1.0000   3rd Qu.:0.0000000   H259   :  4526  \n",
       " Max.   :1.0000   Max.   :1.0000   Max.   :1.0000000   N180   :  2961  \n",
       "                                                       (Other):  4008  \n",
       "   AP_CIDPRI        AP_CIDSEC         AP_ETNIA     \n",
       " H905   :104442   0000   :642130   Min.   :   1    \n",
       " H903   : 56186   H903   :  8394   1st Qu.:9999    \n",
       " H258   : 48687   N189   :  4030   Median :9999    \n",
       " H250   : 47751   G40    :  1555   Mean   :8077    \n",
       " F200   : 38603   H905   :   345   3rd Qu.:9999    \n",
       " Z940   : 20425   N188   :   248   Max.   :9999    \n",
       " (Other):346991   (Other):  6383   NA's   :662961  "
      ]
     },
     "metadata": {},
     "output_type": "display_data"
    }
   ],
   "source": [
    "summary(med)"
   ]
  },
  {
   "cell_type": "code",
   "execution_count": 3,
   "metadata": {
    "scrolled": true
   },
   "outputs": [
    {
     "name": "stdout",
     "output_type": "stream",
     "text": [
      "'data.frame':\t663085 obs. of  26 variables:\n",
      " $ AP_AUTORIZ: num  2.41e+12 2.41e+12 2.41e+12 2.41e+12 2.41e+12 ...\n",
      " $ AP_APACANT: Factor w/ 45211 levels \"0\",\"0           2\",..: 6 6 6 6 6 6 6 6 6 6 ...\n",
      " $ AP_CMP    : int  200801 200801 200801 200801 200801 200801 200801 200801 200801 200801 ...\n",
      " $ AP_PRIPAL : int  211020010 301070032 211020010 301070032 211070092 211070092 211070092 211070092 211070092 701030062 ...\n",
      " $ AP_VL_AP  : num  614.7 97.4 614.7 79.9 23.5 ...\n",
      " $ AP_TPUPS  : int  5 39 5 39 36 36 36 36 36 36 ...\n",
      " $ AP_CNSPCN : Factor w/ 225892 levels \"{\\177{\\u0080{\\u0080{~\\u0082{{{{{~\",..: 52667 166284 147394 212216 144533 144386 138101 145480 144354 144097 ...\n",
      " $ AP_NUIDADE: int  76 59 43 66 25 23 32 39 26 64 ...\n",
      " $ AP_SEXO   : Factor w/ 2 levels \"F\",\"M\": 1 2 1 1 1 2 1 2 2 2 ...\n",
      " $ AP_RACACOR: int  99 99 99 99 1 1 1 1 1 1 ...\n",
      " $ AP_CEPPCN : int  59000000 59870000 59000000 59865000 59324000 59327000 59324000 59324000 59327000 59300000 ...\n",
      " $ AP_UFDIF  : int  0 0 0 0 0 0 0 0 0 0 ...\n",
      " $ AP_MNDIF  : int  1 1 1 1 1 1 1 1 1 1 ...\n",
      " $ AP_DTINIC : int  20080101 20080101 20080101 20080101 20080101 20080101 20080101 20080101 20080101 20080101 ...\n",
      " $ AP_DTFIM  : int  20080131 20080131 20080131 20080131 20080131 20080131 20080131 20080131 20080131 20080131 ...\n",
      " $ AP_TPAPAC : int  3 3 3 3 3 3 3 3 3 3 ...\n",
      " $ AP_MOTSAI : int  12 21 12 21 21 21 21 21 21 21 ...\n",
      " $ AP_OBITO  : int  0 0 0 0 0 0 0 0 0 0 ...\n",
      " $ AP_ENCERR : int  0 0 0 0 0 0 0 0 0 0 ...\n",
      " $ AP_PERMAN : int  0 1 0 1 1 1 1 1 1 1 ...\n",
      " $ AP_ALTA   : int  1 0 1 0 0 0 0 0 0 0 ...\n",
      " $ AP_TRANSF : int  0 0 0 0 0 0 0 0 0 0 ...\n",
      " $ AP_CIDCAS : Factor w/ 77 levels \"0000\",\"A300\",..: 1 1 1 1 1 1 1 1 1 1 ...\n",
      " $ AP_CIDPRI : Factor w/ 569 levels \"A085\",\"A300\",..: 458 424 458 424 424 424 424 424 424 424 ...\n",
      " $ AP_CIDSEC : Factor w/ 266 levels \"0000\",\"C400\",..: 1 1 1 1 1 1 1 1 1 1 ...\n",
      " $ AP_ETNIA  : int  NA NA NA NA NA NA NA NA NA NA ...\n"
     ]
    }
   ],
   "source": [
    "str(med)"
   ]
  },
  {
   "cell_type": "code",
   "execution_count": null,
   "metadata": {
    "collapsed": true
   },
   "outputs": [],
   "source": [
    "proc <- read.csv2(\"Procedimentos/procedimentos_sifilis.csv\", header=TRUE, encoding=\"UTF-8\")"
   ]
  },
  {
   "cell_type": "code",
   "execution_count": null,
   "metadata": {
    "collapsed": true
   },
   "outputs": [],
   "source": [
    "str(proc)"
   ]
  },
  {
   "cell_type": "code",
   "execution_count": null,
   "metadata": {
    "collapsed": true
   },
   "outputs": [],
   "source": [
    "sifilis <- subset(med, med$AP_PRIPAL %in% proc$CO_PROCEDIMENTO)"
   ]
  },
  {
   "cell_type": "code",
   "execution_count": null,
   "metadata": {
    "collapsed": true
   },
   "outputs": [],
   "source": [
    "str(sifilis)"
   ]
  },
  {
   "cell_type": "code",
   "execution_count": null,
   "metadata": {
    "collapsed": true
   },
   "outputs": [],
   "source": [
    "str(med)"
   ]
  },
  {
   "cell_type": "markdown",
   "metadata": {},
   "source": [
    "### Criando um subset para investigar as 10 procedimentos mais frequentes por ano"
   ]
  },
  {
   "cell_type": "code",
   "execution_count": 2,
   "metadata": {
    "scrolled": true
   },
   "outputs": [
    {
     "name": "stderr",
     "output_type": "stream",
     "text": [
      "\n",
      "Attaching package: 'dplyr'\n",
      "\n",
      "The following objects are masked from 'package:stats':\n",
      "\n",
      "    filter, lag\n",
      "\n",
      "The following objects are masked from 'package:base':\n",
      "\n",
      "    intersect, setdiff, setequal, union\n",
      "\n"
     ]
    }
   ],
   "source": [
    "library(\"dplyr\")"
   ]
  },
  {
   "cell_type": "code",
   "execution_count": 5,
   "metadata": {
    "collapsed": true
   },
   "outputs": [],
   "source": [
    "result <- med %>%\n",
    "    group_by(AP_CMP, AP_PRIPAL) %>%\n",
    "    summarise( media_idade = mean(AP_NUIDADE),\n",
    "             media_valor = mean(AP_VL_AP),\n",
    "             total_valor = sum(AP_VL_AP),\n",
    "             total_entradas = n())"
   ]
  },
  {
   "cell_type": "code",
   "execution_count": 6,
   "metadata": {},
   "outputs": [
    {
     "data": {
      "text/html": [
       "<table>\n",
       "<thead><tr><th scope=col>AP_CMP</th><th scope=col>AP_PRIPAL</th><th scope=col>media_idade</th><th scope=col>media_valor</th><th scope=col>total_valor</th><th scope=col>total_entradas</th></tr></thead>\n",
       "<tbody>\n",
       "\t<tr><td>200801   </td><td>211020010</td><td>61.60234 </td><td>614.72000</td><td>105117.12</td><td>171      </td></tr>\n",
       "\t<tr><td>200801   </td><td>211020028</td><td> 3.00000 </td><td>653.72000</td><td>   653.72</td><td>  1      </td></tr>\n",
       "\t<tr><td>200801   </td><td>211070092</td><td>36.32230 </td><td> 34.81707</td><td> 19985.00</td><td>574      </td></tr>\n",
       "\t<tr><td>200801   </td><td>211070106</td><td>30.66667 </td><td>150.70759</td><td> 16276.42</td><td>108      </td></tr>\n",
       "\t<tr><td>200801   </td><td>211070297</td><td>46.63699 </td><td> 63.55000</td><td>  9278.30</td><td>146      </td></tr>\n",
       "\t<tr><td>200801   </td><td>211070300</td><td>18.73810 </td><td>153.74095</td><td>  6457.12</td><td> 42      </td></tr>\n",
       "</tbody>\n",
       "</table>\n"
      ],
      "text/latex": [
       "\\begin{tabular}{r|llllll}\n",
       " AP\\_CMP & AP\\_PRIPAL & media\\_idade & media\\_valor & total\\_valor & total\\_entradas\\\\\n",
       "\\hline\n",
       "\t 200801    & 211020010 & 61.60234  & 614.72000 & 105117.12 & 171      \\\\\n",
       "\t 200801    & 211020028 &  3.00000  & 653.72000 &    653.72 &   1      \\\\\n",
       "\t 200801    & 211070092 & 36.32230  &  34.81707 &  19985.00 & 574      \\\\\n",
       "\t 200801    & 211070106 & 30.66667  & 150.70759 &  16276.42 & 108      \\\\\n",
       "\t 200801    & 211070297 & 46.63699  &  63.55000 &   9278.30 & 146      \\\\\n",
       "\t 200801    & 211070300 & 18.73810  & 153.74095 &   6457.12 &  42      \\\\\n",
       "\\end{tabular}\n"
      ],
      "text/markdown": [
       "\n",
       "AP_CMP | AP_PRIPAL | media_idade | media_valor | total_valor | total_entradas | \n",
       "|---|---|---|---|---|---|\n",
       "| 200801    | 211020010 | 61.60234  | 614.72000 | 105117.12 | 171       | \n",
       "| 200801    | 211020028 |  3.00000  | 653.72000 |    653.72 |   1       | \n",
       "| 200801    | 211070092 | 36.32230  |  34.81707 |  19985.00 | 574       | \n",
       "| 200801    | 211070106 | 30.66667  | 150.70759 |  16276.42 | 108       | \n",
       "| 200801    | 211070297 | 46.63699  |  63.55000 |   9278.30 | 146       | \n",
       "| 200801    | 211070300 | 18.73810  | 153.74095 |   6457.12 |  42       | \n",
       "\n",
       "\n"
      ],
      "text/plain": [
       "  AP_CMP AP_PRIPAL media_idade media_valor total_valor total_entradas\n",
       "1 200801 211020010 61.60234    614.72000   105117.12   171           \n",
       "2 200801 211020028  3.00000    653.72000      653.72     1           \n",
       "3 200801 211070092 36.32230     34.81707    19985.00   574           \n",
       "4 200801 211070106 30.66667    150.70759    16276.42   108           \n",
       "5 200801 211070297 46.63699     63.55000     9278.30   146           \n",
       "6 200801 211070300 18.73810    153.74095     6457.12    42           "
      ]
     },
     "metadata": {},
     "output_type": "display_data"
    }
   ],
   "source": [
    "head(result)"
   ]
  },
  {
   "cell_type": "code",
   "execution_count": 3,
   "metadata": {
    "collapsed": true
   },
   "outputs": [],
   "source": [
    "library(ggplot2)"
   ]
  },
  {
   "cell_type": "code",
   "execution_count": 33,
   "metadata": {},
   "outputs": [
    {
     "data": {},
     "metadata": {},
     "output_type": "display_data"
    },
    {
     "data": {
      "image/png": "[encoded data removed]",
      "text/plain": [
       "plot without title"
      ]
     },
     "metadata": {},
     "output_type": "display_data"
    }
   ],
   "source": [
    "ggplot(result, aes(x = media_valor)) + \n",
    "  geom_histogram(bins=1000)"
   ]
  },
  {
   "cell_type": "code",
   "execution_count": 10,
   "metadata": {},
   "outputs": [
    {
     "data": {},
     "metadata": {},
     "output_type": "display_data"
    },
    {
     "data": {
      "image/png": "[encoded data removed]",
      "text/plain": [
       "plot without title"
      ]
     },
     "metadata": {},
     "output_type": "display_data"
    }
   ],
   "source": [
    "ggplot(result, aes(media_valor, media_idade, colour = AP_CMP)) + \n",
    "  geom_point()"
   ]
  },
  {
   "cell_type": "code",
   "execution_count": 11,
   "metadata": {
    "collapsed": true
   },
   "outputs": [],
   "source": [
    "valor_cmp <- result %>%\n",
    "    group_by(AP_CMP) %>%\n",
    "    summarise(valor_total_mes = sum(total_valor))"
   ]
  },
  {
   "cell_type": "code",
   "execution_count": 13,
   "metadata": {},
   "outputs": [
    {
     "data": {
      "text/html": [
       "<table>\n",
       "<thead><tr><th scope=col>AP_CMP</th><th scope=col>valor_total_mes</th></tr></thead>\n",
       "<tbody>\n",
       "\t<tr><td>200801 </td><td>1070631</td></tr>\n",
       "\t<tr><td>200802 </td><td>1223983</td></tr>\n",
       "\t<tr><td>200803 </td><td>1142866</td></tr>\n",
       "\t<tr><td>200804 </td><td>1304630</td></tr>\n",
       "\t<tr><td>200805 </td><td>1541398</td></tr>\n",
       "\t<tr><td>200806 </td><td>1474486</td></tr>\n",
       "</tbody>\n",
       "</table>\n"
      ],
      "text/latex": [
       "\\begin{tabular}{r|ll}\n",
       " AP\\_CMP & valor\\_total\\_mes\\\\\n",
       "\\hline\n",
       "\t 200801  & 1070631\\\\\n",
       "\t 200802  & 1223983\\\\\n",
       "\t 200803  & 1142866\\\\\n",
       "\t 200804  & 1304630\\\\\n",
       "\t 200805  & 1541398\\\\\n",
       "\t 200806  & 1474486\\\\\n",
       "\\end{tabular}\n"
      ],
      "text/markdown": [
       "\n",
       "AP_CMP | valor_total_mes | \n",
       "|---|---|---|---|---|---|\n",
       "| 200801  | 1070631 | \n",
       "| 200802  | 1223983 | \n",
       "| 200803  | 1142866 | \n",
       "| 200804  | 1304630 | \n",
       "| 200805  | 1541398 | \n",
       "| 200806  | 1474486 | \n",
       "\n",
       "\n"
      ],
      "text/plain": [
       "  AP_CMP valor_total_mes\n",
       "1 200801 1070631        \n",
       "2 200802 1223983        \n",
       "3 200803 1142866        \n",
       "4 200804 1304630        \n",
       "5 200805 1541398        \n",
       "6 200806 1474486        "
      ]
     },
     "metadata": {},
     "output_type": "display_data"
    }
   ],
   "source": [
    "head(valor_cmp)"
   ]
  },
  {
   "cell_type": "code",
   "execution_count": 17,
   "metadata": {
    "collapsed": true
   },
   "outputs": [],
   "source": [
    "valor_cmp$AP_CMP <- as.character(valor_cmp$AP_CMP)"
   ]
  },
  {
   "cell_type": "code",
   "execution_count": 26,
   "metadata": {
    "collapsed": true
   },
   "outputs": [],
   "source": [
    "valor_cmp$AP_CMP <- paste(valor_cmp$AP_CMP, \"01\", sep=\"\")"
   ]
  },
  {
   "cell_type": "code",
   "execution_count": 27,
   "metadata": {},
   "outputs": [
    {
     "name": "stdout",
     "output_type": "stream",
     "text": [
      "Classes 'tbl_df', 'tbl' and 'data.frame':\t124 obs. of  2 variables:\n",
      " $ AP_CMP         : chr  \"20080101\" \"20080201\" \"20080301\" \"20080401\" ...\n",
      " $ valor_total_mes: num  1070631 1223983 1142866 1304630 1541398 ...\n"
     ]
    }
   ],
   "source": [
    "str(valor_cmp)"
   ]
  },
  {
   "cell_type": "code",
   "execution_count": 29,
   "metadata": {
    "collapsed": true
   },
   "outputs": [],
   "source": [
    "valor_cmp$AP_CMP <- as.Date(valor_cmp$AP_CMP, \"%Y%m%d\")"
   ]
  },
  {
   "cell_type": "code",
   "execution_count": 30,
   "metadata": {
    "scrolled": false
   },
   "outputs": [
    {
     "name": "stdout",
     "output_type": "stream",
     "text": [
      "Classes 'tbl_df', 'tbl' and 'data.frame':\t124 obs. of  2 variables:\n",
      " $ AP_CMP         : Date, format: \"2008-01-01\" \"2008-02-01\" ...\n",
      " $ valor_total_mes: num  1070631 1223983 1142866 1304630 1541398 ...\n"
     ]
    }
   ],
   "source": [
    "str(valor_cmp)"
   ]
  },
  {
   "cell_type": "code",
   "execution_count": 32,
   "metadata": {},
   "outputs": [
    {
     "data": {},
     "metadata": {},
     "output_type": "display_data"
    },
    {
     "data": {
      "image/png": "[encoded data removed]",
      "text/plain": [
       "plot without title"
      ]
     },
     "metadata": {},
     "output_type": "display_data"
    }
   ],
   "source": [
    "ggplot(valor_cmp, aes(AP_CMP, valor_total_mes)) + \n",
    "  geom_line()"
   ]
  },
  {
   "cell_type": "code",
   "execution_count": 34,
   "metadata": {},
   "outputs": [
    {
     "name": "stdout",
     "output_type": "stream",
     "text": [
      "'data.frame':\t663085 obs. of  26 variables:\n",
      " $ AP_AUTORIZ: num  2.41e+12 2.41e+12 2.41e+12 2.41e+12 2.41e+12 ...\n",
      " $ AP_APACANT: Factor w/ 45211 levels \"0\",\"0           2\",..: 6 6 6 6 6 6 6 6 6 6 ...\n",
      " $ AP_CMP    : int  200801 200801 200801 200801 200801 200801 200801 200801 200801 200801 ...\n",
      " $ AP_PRIPAL : int  211020010 301070032 211020010 301070032 211070092 211070092 211070092 211070092 211070092 701030062 ...\n",
      " $ AP_VL_AP  : num  614.7 97.4 614.7 79.9 23.5 ...\n",
      " $ AP_TPUPS  : int  5 39 5 39 36 36 36 36 36 36 ...\n",
      " $ AP_CNSPCN : Factor w/ 225892 levels \"{\\177{\\u0080{\\u0080{~\\u0082{{{{{~\",..: 52667 166284 147394 212216 144533 144386 138101 145480 144354 144097 ...\n",
      " $ AP_NUIDADE: int  76 59 43 66 25 23 32 39 26 64 ...\n",
      " $ AP_SEXO   : Factor w/ 2 levels \"F\",\"M\": 1 2 1 1 1 2 1 2 2 2 ...\n",
      " $ AP_RACACOR: int  99 99 99 99 1 1 1 1 1 1 ...\n",
      " $ AP_CEPPCN : int  59000000 59870000 59000000 59865000 59324000 59327000 59324000 59324000 59327000 59300000 ...\n",
      " $ AP_UFDIF  : int  0 0 0 0 0 0 0 0 0 0 ...\n",
      " $ AP_MNDIF  : int  1 1 1 1 1 1 1 1 1 1 ...\n",
      " $ AP_DTINIC : int  20080101 20080101 20080101 20080101 20080101 20080101 20080101 20080101 20080101 20080101 ...\n",
      " $ AP_DTFIM  : int  20080131 20080131 20080131 20080131 20080131 20080131 20080131 20080131 20080131 20080131 ...\n",
      " $ AP_TPAPAC : int  3 3 3 3 3 3 3 3 3 3 ...\n",
      " $ AP_MOTSAI : int  12 21 12 21 21 21 21 21 21 21 ...\n",
      " $ AP_OBITO  : int  0 0 0 0 0 0 0 0 0 0 ...\n",
      " $ AP_ENCERR : int  0 0 0 0 0 0 0 0 0 0 ...\n",
      " $ AP_PERMAN : int  0 1 0 1 1 1 1 1 1 1 ...\n",
      " $ AP_ALTA   : int  1 0 1 0 0 0 0 0 0 0 ...\n",
      " $ AP_TRANSF : int  0 0 0 0 0 0 0 0 0 0 ...\n",
      " $ AP_CIDCAS : Factor w/ 77 levels \"0000\",\"A300\",..: 1 1 1 1 1 1 1 1 1 1 ...\n",
      " $ AP_CIDPRI : Factor w/ 569 levels \"A085\",\"A300\",..: 458 424 458 424 424 424 424 424 424 424 ...\n",
      " $ AP_CIDSEC : Factor w/ 266 levels \"0000\",\"C400\",..: 1 1 1 1 1 1 1 1 1 1 ...\n",
      " $ AP_ETNIA  : int  NA NA NA NA NA NA NA NA NA NA ...\n"
     ]
    }
   ],
   "source": [
    "str(med)"
   ]
  },
  {
   "cell_type": "code",
   "execution_count": 4,
   "metadata": {
    "collapsed": true
   },
   "outputs": [],
   "source": [
    "result_municipio <- med %>%\n",
    "    group_by(AP_CMP, AP_CEPPCN, AP_PRIPAL) %>%\n",
    "    summarise( media_idade = mean(AP_NUIDADE),\n",
    "             media_valor = mean(AP_VL_AP),\n",
    "             total_valor = sum(AP_VL_AP),\n",
    "             total_entradas = n())"
   ]
  },
  {
   "cell_type": "code",
   "execution_count": 38,
   "metadata": {},
   "outputs": [
    {
     "data": {},
     "metadata": {},
     "output_type": "display_data"
    },
    {
     "data": {
      "image/png": "[encoded data removed]",
      "text/plain": [
       "plot without title"
      ]
     },
     "metadata": {},
     "output_type": "display_data"
    }
   ],
   "source": [
    "ggplot(result_municipio, aes(AP_CEPPCN, total_valor)) + \n",
    "  geom_line()"
   ]
  },
  {
   "cell_type": "code",
   "execution_count": 43,
   "metadata": {
    "collapsed": true
   },
   "outputs": [],
   "source": [
    "write.csv(result_municipio, \"laudos-cep-2.csv\", row.names=FALSE)"
   ]
  },
  {
   "cell_type": "code",
   "execution_count": 42,
   "metadata": {},
   "outputs": [
    {
     "name": "stdout",
     "output_type": "stream",
     "text": [
      "Classes 'grouped_df', 'tbl_df', 'tbl' and 'data.frame':\t250117 obs. of  7 variables:\n",
      " $ AP_CMP        : int  200801 200801 200801 200801 200801 200801 200801 200801 200801 200801 ...\n",
      " $ AP_CEPPCN     : int  0 25950800 25960000 50000000 50070150 50074050 50600000 54960000 56695000 57000000 ...\n",
      " $ AP_PRIPAL     : int  301080119 301080100 405050372 301080100 301080062 301080100 301080135 301080089 301080127 211070319 ...\n",
      " $ media_idade   : num  9 19 70 29 32 29 42 8 36 5 ...\n",
      " $ media_valor   : num  195.6 44.5 643 44.5 398.2 ...\n",
      " $ total_valor   : num  195.6 44.5 643 44.5 398.2 ...\n",
      " $ total_entradas: int  1 1 1 1 1 1 1 1 1 1 ...\n",
      " - attr(*, \"vars\")= chr  \"AP_CMP\" \"AP_CEPPCN\"\n",
      " - attr(*, \"drop\")= logi TRUE\n"
     ]
    }
   ],
   "source": [
    "str(result_municipio)"
   ]
  },
  {
   "cell_type": "code",
   "execution_count": 6,
   "metadata": {},
   "outputs": [
    {
     "name": "stderr",
     "output_type": "stream",
     "text": [
      "also installing the dependencies 'sp', 'proto', 'RgoogleMaps', 'png', 'rjson', 'mapproj', 'jpeg', 'geosphere'\n",
      "\n"
     ]
    },
    {
     "name": "stdout",
     "output_type": "stream",
     "text": [
      "package 'sp' successfully unpacked and MD5 sums checked\n",
      "package 'proto' successfully unpacked and MD5 sums checked\n",
      "package 'RgoogleMaps' successfully unpacked and MD5 sums checked\n",
      "package 'png' successfully unpacked and MD5 sums checked\n",
      "package 'rjson' successfully unpacked and MD5 sums checked\n",
      "package 'mapproj' successfully unpacked and MD5 sums checked\n",
      "package 'jpeg' successfully unpacked and MD5 sums checked\n",
      "package 'geosphere' successfully unpacked and MD5 sums checked\n",
      "package 'ggmap' successfully unpacked and MD5 sums checked\n",
      "\n",
      "The downloaded binary packages are in\n",
      "\tC:\\Users\\r_ds\\AppData\\Local\\Temp\\RtmpQzfbXu\\downloaded_packages\n"
     ]
    }
   ],
   "source": [
    "install.packages('ggmap',repos = \"https://CRAN.R-project.org/\")"
   ]
  },
  {
   "cell_type": "code",
   "execution_count": 7,
   "metadata": {},
   "outputs": [
    {
     "name": "stderr",
     "output_type": "stream",
     "text": [
      "Warning message:\n",
      "\"package 'ggmap' was built under R version 3.4.4\""
     ]
    }
   ],
   "source": [
    "library(ggmap)"
   ]
  },
  {
   "cell_type": "code",
   "execution_count": 15,
   "metadata": {},
   "outputs": [
    {
     "name": "stderr",
     "output_type": "stream",
     "text": [
      "Information from URL : http://maps.googleapis.com/maps/api/geocode/json?address=59108-120&sensor=false\n"
     ]
    },
    {
     "data": {
      "text/html": [
       "<table>\n",
       "<thead><tr><th scope=col>lon</th><th scope=col>lat</th><th scope=col>type</th><th scope=col>loctype</th><th scope=col>address</th><th scope=col>north</th><th scope=col>south</th><th scope=col>east</th><th scope=col>west</th><th scope=col>postal_code</th><th scope=col>political</th><th scope=col>administrative_area_level_2</th><th scope=col>administrative_area_level_1</th><th scope=col>country</th></tr></thead>\n",
       "<tbody>\n",
       "\t<tr><td>-35.25922                             </td><td>-5.763996                             </td><td>postal_code                           </td><td>approximate                           </td><td>potengi, natal - rn, 59108-120, brazil</td><td>-5.761354                             </td><td>-5.766543                             </td><td>-35.25468                             </td><td>-35.26566                             </td><td>59108-120                             </td><td>Potengi                               </td><td>Natal                                 </td><td>Rio Grande do Norte                   </td><td>Brazil                                </td></tr>\n",
       "</tbody>\n",
       "</table>\n"
      ],
      "text/latex": [
       "\\begin{tabular}{r|llllllllllllll}\n",
       " lon & lat & type & loctype & address & north & south & east & west & postal\\_code & political & administrative\\_area\\_level\\_2 & administrative\\_area\\_level\\_1 & country\\\\\n",
       "\\hline\n",
       "\t -35.25922                              & -5.763996                              & postal\\_code                          & approximate                            & potengi, natal - rn, 59108-120, brazil & -5.761354                              & -5.766543                              & -35.25468                              & -35.26566                              & 59108-120                              & Potengi                                & Natal                                  & Rio Grande do Norte                    & Brazil                                \\\\\n",
       "\\end{tabular}\n"
      ],
      "text/markdown": [
       "\n",
       "lon | lat | type | loctype | address | north | south | east | west | postal_code | political | administrative_area_level_2 | administrative_area_level_1 | country | \n",
       "|---|\n",
       "| -35.25922                              | -5.763996                              | postal_code                            | approximate                            | potengi, natal - rn, 59108-120, brazil | -5.761354                              | -5.766543                              | -35.25468                              | -35.26566                              | 59108-120                              | Potengi                                | Natal                                  | Rio Grande do Norte                    | Brazil                                 | \n",
       "\n",
       "\n"
      ],
      "text/plain": [
       "  lon       lat       type        loctype    \n",
       "1 -35.25922 -5.763996 postal_code approximate\n",
       "  address                                north     south     east     \n",
       "1 potengi, natal - rn, 59108-120, brazil -5.761354 -5.766543 -35.25468\n",
       "  west      postal_code political administrative_area_level_2\n",
       "1 -35.26566 59108-120   Potengi   Natal                      \n",
       "  administrative_area_level_1 country\n",
       "1 Rio Grande do Norte         Brazil "
      ]
     },
     "metadata": {},
     "output_type": "display_data"
    }
   ],
   "source": [
    "end <- geocode(\"59108-120\", output=\"more\")\n",
    "end\n"
   ]
  },
  {
   "cell_type": "code",
   "execution_count": 16,
   "metadata": {},
   "outputs": [
    {
     "data": {
      "text/html": [
       "-35.2592159"
      ],
      "text/latex": [
       "-35.2592159"
      ],
      "text/markdown": [
       "-35.2592159"
      ],
      "text/plain": [
       "[1] -35.25922"
      ]
     },
     "metadata": {},
     "output_type": "display_data"
    }
   ],
   "source": [
    "end$lon"
   ]
  },
  {
   "cell_type": "code",
   "execution_count": 17,
   "metadata": {},
   "outputs": [
    {
     "data": {
      "text/html": [
       "-5.7639962"
      ],
      "text/latex": [
       "-5.7639962"
      ],
      "text/markdown": [
       "-5.7639962"
      ],
      "text/plain": [
       "[1] -5.763996"
      ]
     },
     "metadata": {},
     "output_type": "display_data"
    }
   ],
   "source": [
    "end$lat"
   ]
  },
  {
   "cell_type": "code",
   "execution_count": null,
   "metadata": {
    "collapsed": true
   },
   "outputs": [],
   "source": [
    "getGeo <- function(data){\n",
    "    res <- geocode(data, output=\"more\")\n",
    "}"
   ]
  },
  {
   "cell_type": "code",
   "execution_count": 26,
   "metadata": {},
   "outputs": [
    {
     "ename": "ERROR",
     "evalue": "Error: google restricts requests to 2500 requests a day for non-business use.\n",
     "output_type": "error",
     "traceback": [
      "Error: google restricts requests to 2500 requests a day for non-business use.\nTraceback:\n",
      "1. geocode(as.character(result_municipio$AP_CEPPCN), output = \"more\")",
      "2. stop(s, call. = F)"
     ]
    }
   ],
   "source": [
    "result_municipio$cidade <- geocode(as.character(result_municipio$AP_CEPPCN), output=\"more\")$administrative_area_level_2"
   ]
  },
  {
   "cell_type": "code",
   "execution_count": 20,
   "metadata": {},
   "outputs": [
    {
     "data": {
      "text/plain": [
       "    Min.  1st Qu.   Median     Mean  3rd Qu.     Max. \n",
       "       0 59072888 59139435 59251994 59507000 99150000 "
      ]
     },
     "metadata": {},
     "output_type": "display_data"
    }
   ],
   "source": [
    "summary(result_municipio$AP_CEPPCN)"
   ]
  },
  {
   "cell_type": "code",
   "execution_count": null,
   "metadata": {
    "collapsed": true
   },
   "outputs": [],
   "source": []
  },
  {
   "cell_type": "code",
   "execution_count": 36,
   "metadata": {
    "collapsed": true
   },
   "outputs": [],
   "source": [
    "result_cid <- med %>%\n",
    "    group_by(AP_CMP, AP_CIDPRI, AP_PRIPAL) %>%\n",
    "    summarise( media_idade = mean(AP_NUIDADE),\n",
    "             media_valor = mean(AP_VL_AP),\n",
    "             total_valor = sum(AP_VL_AP),\n",
    "             total_entradas = n())"
   ]
  },
  {
   "cell_type": "code",
   "execution_count": null,
   "metadata": {
    "collapsed": true
   },
   "outputs": [],
   "source": []
  },
  {
   "cell_type": "code",
   "execution_count": 40,
   "metadata": {
    "collapsed": true
   },
   "outputs": [],
   "source": [
    "?write.csv2"
   ]
  },
  {
   "cell_type": "code",
   "execution_count": null,
   "metadata": {
    "collapsed": true
   },
   "outputs": [],
   "source": []
  }
 ],
 "metadata": {
  "kernelspec": {
   "display_name": "R",
   "language": "R",
   "name": "ir"
  },
  "language_info": {
   "codemirror_mode": "r",
   "file_extension": ".r",
   "mimetype": "text/x-r-source",
   "name": "R",
   "pygments_lexer": "r",
   "version": "3.4.2"
  }
 },
 "nbformat": 4,
 "nbformat_minor": 2
}
