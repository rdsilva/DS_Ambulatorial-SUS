{
 "cells": [
  {
   "cell_type": "markdown",
   "metadata": {},
   "source": [
    "### Filtrando apenas os Procedimentos relacionados com a Sífilis\n",
    "\n",
    "> O objetivo final é gerar um pequeno arquivo que contenha todos os procedimentos relacionados à Sífilis a fim de que se possa gerar uma filtragem mais rápida e eficiente dos dados gerais de procedimentos no SIA"
   ]
  },
  {
   "cell_type": "code",
   "execution_count": 4,
   "metadata": {},
   "outputs": [],
   "source": [
    "proc <- read.csv2(\"so_procedimentos.csv\", header=TRUE, encoding=\"UTF-8\")"
   ]
  },
  {
   "cell_type": "code",
   "execution_count": 5,
   "metadata": {},
   "outputs": [
    {
     "data": {
      "text/html": [
       "<table>\n",
       "<thead><tr><th scope=col>CO_PROCEDIMENTO</th><th scope=col>NO_PROCEDIMENTO</th></tr></thead>\n",
       "<tbody>\n",
       "\t<tr><td>101010010                                                                                                                                                                                                                                                 </td><td>ATIVIDADE EDUCATIVA / ORIENTAÇÃO EM GRUPO NA ATENÇÃO BÁSICA                                                                                                                                                                                               </td></tr>\n",
       "\t<tr><td>101010028                                                                                                                                                                                                                                                 </td><td>ATIVIDADE EDUCATIVA / ORIENTAÇÃO EM GRUPO NA ATENÇÃO ESPECIALIZADA                                                                                                                                                                                        </td></tr>\n",
       "\t<tr><td>101010036                                                                                                                                                                                                                                                 </td><td>PRÁTICA CORPORAL / ATIVIDADE FÍSICA EM GRUPO                                                                                                                                                                                                              </td></tr>\n",
       "\t<tr><td>101020015                                                                                                                                                                                                                                                 </td><td>AÇÃO COLETIVA DE APLICAÇÃO TÓPICA DE FLÚOR GEL                                                                                                                                                                                                            </td></tr>\n",
       "\t<tr><td>101020023                                                                                                                                                                                                                                                 </td><td>AÇÃO COLETIVA DE BOCHECHO FLUORADO                                                                                                                                                                                                                        </td></tr>\n",
       "\t<tr><td>101020031                                                                                                                                                                                                                                                 </td><td>AÇÃO COLETIVA DE ESCOVAÇÃO DENTAL SUPERVISIONADA                                                                                                                                                                                                          </td></tr>\n",
       "</tbody>\n",
       "</table>\n"
      ],
      "text/latex": [
       "\\begin{tabular}{r|ll}\n",
       " CO\\_PROCEDIMENTO & NO\\_PROCEDIMENTO\\\\\n",
       "\\hline\n",
       "\t 101010010                                                                                                                                                                                                                                                  & ATIVIDADE EDUCATIVA / ORIENTAÇÃO EM GRUPO NA ATENÇÃO BÁSICA                                                                                                                                                                                               \\\\\n",
       "\t 101010028                                                                                                                                                                                                                                                  & ATIVIDADE EDUCATIVA / ORIENTAÇÃO EM GRUPO NA ATENÇÃO ESPECIALIZADA                                                                                                                                                                                        \\\\\n",
       "\t 101010036                                                                                                                                                                                                                                                  & PRÁTICA CORPORAL / ATIVIDADE FÍSICA EM GRUPO                                                                                                                                                                                                              \\\\\n",
       "\t 101020015                                                                                                                                                                                                                                                  & AÇÃO COLETIVA DE APLICAÇÃO TÓPICA DE FLÚOR GEL                                                                                                                                                                                                            \\\\\n",
       "\t 101020023                                                                                                                                                                                                                                                  & AÇÃO COLETIVA DE BOCHECHO FLUORADO                                                                                                                                                                                                                        \\\\\n",
       "\t 101020031                                                                                                                                                                                                                                                  & AÇÃO COLETIVA DE ESCOVAÇÃO DENTAL SUPERVISIONADA                                                                                                                                                                                                          \\\\\n",
       "\\end{tabular}\n"
      ],
      "text/markdown": [
       "\n",
       "CO_PROCEDIMENTO | NO_PROCEDIMENTO | \n",
       "|---|---|---|---|---|---|\n",
       "| 101010010                                                                                                                                                                                                                                                  | ATIVIDADE EDUCATIVA / ORIENTAÇÃO EM GRUPO NA ATENÇÃO BÁSICA                                                                                                                                                                                                | \n",
       "| 101010028                                                                                                                                                                                                                                                  | ATIVIDADE EDUCATIVA / ORIENTAÇÃO EM GRUPO NA ATENÇÃO ESPECIALIZADA                                                                                                                                                                                         | \n",
       "| 101010036                                                                                                                                                                                                                                                  | PRÁTICA CORPORAL / ATIVIDADE FÍSICA EM GRUPO                                                                                                                                                                                                               | \n",
       "| 101020015                                                                                                                                                                                                                                                  | AÇÃO COLETIVA DE APLICAÇÃO TÓPICA DE FLÚOR GEL                                                                                                                                                                                                             | \n",
       "| 101020023                                                                                                                                                                                                                                                  | AÇÃO COLETIVA DE BOCHECHO FLUORADO                                                                                                                                                                                                                         | \n",
       "| 101020031                                                                                                                                                                                                                                                  | AÇÃO COLETIVA DE ESCOVAÇÃO DENTAL SUPERVISIONADA                                                                                                                                                                                                           | \n",
       "\n",
       "\n"
      ],
      "text/plain": [
       "  CO_PROCEDIMENTO\n",
       "1 101010010      \n",
       "2 101010028      \n",
       "3 101010036      \n",
       "4 101020015      \n",
       "5 101020023      \n",
       "6 101020031      \n",
       "  NO_PROCEDIMENTO                                                                                                                                                                                                                                           \n",
       "1 ATIVIDADE EDUCATIVA / ORIENTAÇÃO EM GRUPO NA ATENÇÃO BÁSICA                                                                                                                                                                                               \n",
       "2 ATIVIDADE EDUCATIVA / ORIENTAÇÃO EM GRUPO NA ATENÇÃO ESPECIALIZADA                                                                                                                                                                                        \n",
       "3 PRÁTICA CORPORAL / ATIVIDADE FÍSICA EM GRUPO                                                                                                                                                                                                              \n",
       "4 AÇÃO COLETIVA DE APLICAÇÃO TÓPICA DE FLÚOR GEL                                                                                                                                                                                                            \n",
       "5 AÇÃO COLETIVA DE BOCHECHO FLUORADO                                                                                                                                                                                                                        \n",
       "6 AÇÃO COLETIVA DE ESCOVAÇÃO DENTAL SUPERVISIONADA                                                                                                                                                                                                          "
      ]
     },
     "metadata": {},
     "output_type": "display_data"
    }
   ],
   "source": [
    "head(proc)"
   ]
  },
  {
   "cell_type": "code",
   "execution_count": 9,
   "metadata": {},
   "outputs": [
    {
     "data": {
      "text/html": [
       "<table>\n",
       "<thead><tr><th scope=col>CO_PROCEDIMENTO</th><th scope=col>NO_PROCEDIMENTO</th></tr></thead>\n",
       "<tbody>\n",
       "\t<tr><td>303010126                                                                                                                                                                                                                                                 </td><td>TRATAMENTO DE INFECÇÕES DE TRANSMISSÃO PREDOMINANTEMENTE SEXUAL (A50 A A64)                                                                                                                                                                               </td></tr>\n",
       "</tbody>\n",
       "</table>\n"
      ],
      "text/latex": [
       "\\begin{tabular}{r|ll}\n",
       " CO\\_PROCEDIMENTO & NO\\_PROCEDIMENTO\\\\\n",
       "\\hline\n",
       "\t 303010126                                                                                                                                                                                                                                                  & TRATAMENTO DE INFECÇÕES DE TRANSMISSÃO PREDOMINANTEMENTE SEXUAL (A50 A A64)                                                                                                                                                                               \\\\\n",
       "\\end{tabular}\n"
      ],
      "text/markdown": [
       "\n",
       "CO_PROCEDIMENTO | NO_PROCEDIMENTO | \n",
       "|---|\n",
       "| 303010126                                                                                                                                                                                                                                                  | TRATAMENTO DE INFECÇÕES DE TRANSMISSÃO PREDOMINANTEMENTE SEXUAL (A50 A A64)                                                                                                                                                                                | \n",
       "\n",
       "\n"
      ],
      "text/plain": [
       "  CO_PROCEDIMENTO\n",
       "1 303010126      \n",
       "  NO_PROCEDIMENTO                                                                                                                                                                                                                                           \n",
       "1 TRATAMENTO DE INFECÇÕES DE TRANSMISSÃO PREDOMINANTEMENTE SEXUAL (A50 A A64)                                                                                                                                                                               "
      ]
     },
     "metadata": {},
     "output_type": "display_data"
    }
   ],
   "source": [
    "dplyr::filter(proc, grepl('A50', NO_PROCEDIMENTO))"
   ]
  },
  {
   "cell_type": "code",
   "execution_count": 10,
   "metadata": {},
   "outputs": [
    {
     "data": {
      "text/html": [
       "<table>\n",
       "<thead><tr><th scope=col>CO_PROCEDIMENTO</th><th scope=col>NO_PROCEDIMENTO</th></tr></thead>\n",
       "<tbody>\n",
       "\t<tr><td>303010185                                                                                                                                                                                                                                                 </td><td>TRATAMENTO DE OUTRAS DOENÇAS CAUSADAS POR ESPIROQUETAS (A65 A A69)                                                                                                                                                                                        </td></tr>\n",
       "</tbody>\n",
       "</table>\n"
      ],
      "text/latex": [
       "\\begin{tabular}{r|ll}\n",
       " CO\\_PROCEDIMENTO & NO\\_PROCEDIMENTO\\\\\n",
       "\\hline\n",
       "\t 303010185                                                                                                                                                                                                                                                  & TRATAMENTO DE OUTRAS DOENÇAS CAUSADAS POR ESPIROQUETAS (A65 A A69)                                                                                                                                                                                        \\\\\n",
       "\\end{tabular}\n"
      ],
      "text/markdown": [
       "\n",
       "CO_PROCEDIMENTO | NO_PROCEDIMENTO | \n",
       "|---|\n",
       "| 303010185                                                                                                                                                                                                                                                  | TRATAMENTO DE OUTRAS DOENÇAS CAUSADAS POR ESPIROQUETAS (A65 A A69)                                                                                                                                                                                         | \n",
       "\n",
       "\n"
      ],
      "text/plain": [
       "  CO_PROCEDIMENTO\n",
       "1 303010185      \n",
       "  NO_PROCEDIMENTO                                                                                                                                                                                                                                           \n",
       "1 TRATAMENTO DE OUTRAS DOENÇAS CAUSADAS POR ESPIROQUETAS (A65 A A69)                                                                                                                                                                                        "
      ]
     },
     "metadata": {},
     "output_type": "display_data"
    }
   ],
   "source": [
    "dplyr::filter(proc, grepl('A65', NO_PROCEDIMENTO))"
   ]
  },
  {
   "cell_type": "code",
   "execution_count": 17,
   "metadata": {},
   "outputs": [],
   "source": [
    "sifilis <- dplyr::filter(proc, grepl('SIFILIS|SÍFILIS|A50|A65', NO_PROCEDIMENTO))"
   ]
  },
  {
   "cell_type": "code",
   "execution_count": 18,
   "metadata": {},
   "outputs": [
    {
     "data": {
      "text/html": [
       "<table>\n",
       "<thead><tr><th scope=col>CO_PROCEDIMENTO</th><th scope=col>NO_PROCEDIMENTO</th></tr></thead>\n",
       "<tbody>\n",
       "\t<tr><td>202031098                                                                                                                                                                                                                                                 </td><td>TESTE TREPONEMICO P/ DETECÇÃO DE SIFILIS                                                                                                                                                                                                                  </td></tr>\n",
       "\t<tr><td>202031110                                                                                                                                                                                                                                                 </td><td>TESTE NÃO TREPONEMICO P/ DETECÇÃO DE SIFILIS                                                                                                                                                                                                              </td></tr>\n",
       "\t<tr><td>202031128                                                                                                                                                                                                                                                 </td><td>TESTE FTA-ABS IGG P/ DIAGNOSTICO DA SIFILIS                                                                                                                                                                                                               </td></tr>\n",
       "\t<tr><td>202031136                                                                                                                                                                                                                                                 </td><td>TESTE FTA-ABS IGM P/ DIAGNOSTICO DA SIFILIS                                                                                                                                                                                                               </td></tr>\n",
       "\t<tr><td>202031179                                                                                                                                                                                                                                                 </td><td>TESTE NÃO TREPONEMICO P/ DETECÇÃO DE SIFILIS EM GESTANTES                                                                                                                                                                                                 </td></tr>\n",
       "\t<tr><td>214010074                                                                                                                                                                                                                                                 </td><td>TESTE RÁPIDO PARA SÍFILIS                                                                                                                                                                                                                                 </td></tr>\n",
       "</tbody>\n",
       "</table>\n"
      ],
      "text/latex": [
       "\\begin{tabular}{r|ll}\n",
       " CO\\_PROCEDIMENTO & NO\\_PROCEDIMENTO\\\\\n",
       "\\hline\n",
       "\t 202031098                                                                                                                                                                                                                                                  & TESTE TREPONEMICO P/ DETECÇÃO DE SIFILIS                                                                                                                                                                                                                  \\\\\n",
       "\t 202031110                                                                                                                                                                                                                                                  & TESTE NÃO TREPONEMICO P/ DETECÇÃO DE SIFILIS                                                                                                                                                                                                              \\\\\n",
       "\t 202031128                                                                                                                                                                                                                                                  & TESTE FTA-ABS IGG P/ DIAGNOSTICO DA SIFILIS                                                                                                                                                                                                               \\\\\n",
       "\t 202031136                                                                                                                                                                                                                                                  & TESTE FTA-ABS IGM P/ DIAGNOSTICO DA SIFILIS                                                                                                                                                                                                               \\\\\n",
       "\t 202031179                                                                                                                                                                                                                                                  & TESTE NÃO TREPONEMICO P/ DETECÇÃO DE SIFILIS EM GESTANTES                                                                                                                                                                                                 \\\\\n",
       "\t 214010074                                                                                                                                                                                                                                                  & TESTE RÁPIDO PARA SÍFILIS                                                                                                                                                                                                                                 \\\\\n",
       "\\end{tabular}\n"
      ],
      "text/markdown": [
       "\n",
       "CO_PROCEDIMENTO | NO_PROCEDIMENTO | \n",
       "|---|---|---|---|---|---|\n",
       "| 202031098                                                                                                                                                                                                                                                  | TESTE TREPONEMICO P/ DETECÇÃO DE SIFILIS                                                                                                                                                                                                                   | \n",
       "| 202031110                                                                                                                                                                                                                                                  | TESTE NÃO TREPONEMICO P/ DETECÇÃO DE SIFILIS                                                                                                                                                                                                               | \n",
       "| 202031128                                                                                                                                                                                                                                                  | TESTE FTA-ABS IGG P/ DIAGNOSTICO DA SIFILIS                                                                                                                                                                                                                | \n",
       "| 202031136                                                                                                                                                                                                                                                  | TESTE FTA-ABS IGM P/ DIAGNOSTICO DA SIFILIS                                                                                                                                                                                                                | \n",
       "| 202031179                                                                                                                                                                                                                                                  | TESTE NÃO TREPONEMICO P/ DETECÇÃO DE SIFILIS EM GESTANTES                                                                                                                                                                                                  | \n",
       "| 214010074                                                                                                                                                                                                                                                  | TESTE RÁPIDO PARA SÍFILIS                                                                                                                                                                                                                                  | \n",
       "\n",
       "\n"
      ],
      "text/plain": [
       "  CO_PROCEDIMENTO\n",
       "1 202031098      \n",
       "2 202031110      \n",
       "3 202031128      \n",
       "4 202031136      \n",
       "5 202031179      \n",
       "6 214010074      \n",
       "  NO_PROCEDIMENTO                                                                                                                                                                                                                                           \n",
       "1 TESTE TREPONEMICO P/ DETECÇÃO DE SIFILIS                                                                                                                                                                                                                  \n",
       "2 TESTE NÃO TREPONEMICO P/ DETECÇÃO DE SIFILIS                                                                                                                                                                                                              \n",
       "3 TESTE FTA-ABS IGG P/ DIAGNOSTICO DA SIFILIS                                                                                                                                                                                                               \n",
       "4 TESTE FTA-ABS IGM P/ DIAGNOSTICO DA SIFILIS                                                                                                                                                                                                               \n",
       "5 TESTE NÃO TREPONEMICO P/ DETECÇÃO DE SIFILIS EM GESTANTES                                                                                                                                                                                                 \n",
       "6 TESTE RÁPIDO PARA SÍFILIS                                                                                                                                                                                                                                 "
      ]
     },
     "metadata": {},
     "output_type": "display_data"
    }
   ],
   "source": [
    "head(sifilis)"
   ]
  },
  {
   "cell_type": "code",
   "execution_count": 19,
   "metadata": {},
   "outputs": [
    {
     "data": {
      "text/html": [
       "<table>\n",
       "<thead><tr><th scope=col>CO_PROCEDIMENTO</th><th scope=col>NO_PROCEDIMENTO</th></tr></thead>\n",
       "<tbody>\n",
       "\t<tr><td>202031098                                                                                                                                                                                                                                                 </td><td>TESTE TREPONEMICO P/ DETECÇÃO DE SIFILIS                                                                                                                                                                                                                  </td></tr>\n",
       "\t<tr><td>202031110                                                                                                                                                                                                                                                 </td><td>TESTE NÃO TREPONEMICO P/ DETECÇÃO DE SIFILIS                                                                                                                                                                                                              </td></tr>\n",
       "\t<tr><td>202031128                                                                                                                                                                                                                                                 </td><td>TESTE FTA-ABS IGG P/ DIAGNOSTICO DA SIFILIS                                                                                                                                                                                                               </td></tr>\n",
       "\t<tr><td>202031136                                                                                                                                                                                                                                                 </td><td>TESTE FTA-ABS IGM P/ DIAGNOSTICO DA SIFILIS                                                                                                                                                                                                               </td></tr>\n",
       "\t<tr><td>202031179                                                                                                                                                                                                                                                 </td><td>TESTE NÃO TREPONEMICO P/ DETECÇÃO DE SIFILIS EM GESTANTES                                                                                                                                                                                                 </td></tr>\n",
       "\t<tr><td>214010074                                                                                                                                                                                                                                                 </td><td>TESTE RÁPIDO PARA SÍFILIS                                                                                                                                                                                                                                 </td></tr>\n",
       "\t<tr><td>214010082                                                                                                                                                                                                                                                 </td><td>TESTE RÁPIDO PARA SÍFILIS NA GESTANTE OU PAI/PARCEIRO                                                                                                                                                                                                     </td></tr>\n",
       "\t<tr><td>303010126                                                                                                                                                                                                                                                 </td><td>TRATAMENTO DE INFECÇÕES DE TRANSMISSÃO PREDOMINANTEMENTE SEXUAL (A50 A A64)                                                                                                                                                                               </td></tr>\n",
       "\t<tr><td>303010185                                                                                                                                                                                                                                                 </td><td>TRATAMENTO DE OUTRAS DOENÇAS CAUSADAS POR ESPIROQUETAS (A65 A A69)                                                                                                                                                                                        </td></tr>\n",
       "</tbody>\n",
       "</table>\n"
      ],
      "text/latex": [
       "\\begin{tabular}{r|ll}\n",
       " CO\\_PROCEDIMENTO & NO\\_PROCEDIMENTO\\\\\n",
       "\\hline\n",
       "\t 202031098                                                                                                                                                                                                                                                  & TESTE TREPONEMICO P/ DETECÇÃO DE SIFILIS                                                                                                                                                                                                                  \\\\\n",
       "\t 202031110                                                                                                                                                                                                                                                  & TESTE NÃO TREPONEMICO P/ DETECÇÃO DE SIFILIS                                                                                                                                                                                                              \\\\\n",
       "\t 202031128                                                                                                                                                                                                                                                  & TESTE FTA-ABS IGG P/ DIAGNOSTICO DA SIFILIS                                                                                                                                                                                                               \\\\\n",
       "\t 202031136                                                                                                                                                                                                                                                  & TESTE FTA-ABS IGM P/ DIAGNOSTICO DA SIFILIS                                                                                                                                                                                                               \\\\\n",
       "\t 202031179                                                                                                                                                                                                                                                  & TESTE NÃO TREPONEMICO P/ DETECÇÃO DE SIFILIS EM GESTANTES                                                                                                                                                                                                 \\\\\n",
       "\t 214010074                                                                                                                                                                                                                                                  & TESTE RÁPIDO PARA SÍFILIS                                                                                                                                                                                                                                 \\\\\n",
       "\t 214010082                                                                                                                                                                                                                                                  & TESTE RÁPIDO PARA SÍFILIS NA GESTANTE OU PAI/PARCEIRO                                                                                                                                                                                                     \\\\\n",
       "\t 303010126                                                                                                                                                                                                                                                  & TRATAMENTO DE INFECÇÕES DE TRANSMISSÃO PREDOMINANTEMENTE SEXUAL (A50 A A64)                                                                                                                                                                               \\\\\n",
       "\t 303010185                                                                                                                                                                                                                                                  & TRATAMENTO DE OUTRAS DOENÇAS CAUSADAS POR ESPIROQUETAS (A65 A A69)                                                                                                                                                                                        \\\\\n",
       "\\end{tabular}\n"
      ],
      "text/markdown": [
       "\n",
       "CO_PROCEDIMENTO | NO_PROCEDIMENTO | \n",
       "|---|---|---|---|---|---|---|---|---|\n",
       "| 202031098                                                                                                                                                                                                                                                  | TESTE TREPONEMICO P/ DETECÇÃO DE SIFILIS                                                                                                                                                                                                                   | \n",
       "| 202031110                                                                                                                                                                                                                                                  | TESTE NÃO TREPONEMICO P/ DETECÇÃO DE SIFILIS                                                                                                                                                                                                               | \n",
       "| 202031128                                                                                                                                                                                                                                                  | TESTE FTA-ABS IGG P/ DIAGNOSTICO DA SIFILIS                                                                                                                                                                                                                | \n",
       "| 202031136                                                                                                                                                                                                                                                  | TESTE FTA-ABS IGM P/ DIAGNOSTICO DA SIFILIS                                                                                                                                                                                                                | \n",
       "| 202031179                                                                                                                                                                                                                                                  | TESTE NÃO TREPONEMICO P/ DETECÇÃO DE SIFILIS EM GESTANTES                                                                                                                                                                                                  | \n",
       "| 214010074                                                                                                                                                                                                                                                  | TESTE RÁPIDO PARA SÍFILIS                                                                                                                                                                                                                                  | \n",
       "| 214010082                                                                                                                                                                                                                                                  | TESTE RÁPIDO PARA SÍFILIS NA GESTANTE OU PAI/PARCEIRO                                                                                                                                                                                                      | \n",
       "| 303010126                                                                                                                                                                                                                                                  | TRATAMENTO DE INFECÇÕES DE TRANSMISSÃO PREDOMINANTEMENTE SEXUAL (A50 A A64)                                                                                                                                                                                | \n",
       "| 303010185                                                                                                                                                                                                                                                  | TRATAMENTO DE OUTRAS DOENÇAS CAUSADAS POR ESPIROQUETAS (A65 A A69)                                                                                                                                                                                         | \n",
       "\n",
       "\n"
      ],
      "text/plain": [
       "  CO_PROCEDIMENTO\n",
       "1 202031098      \n",
       "2 202031110      \n",
       "3 202031128      \n",
       "4 202031136      \n",
       "5 202031179      \n",
       "6 214010074      \n",
       "7 214010082      \n",
       "8 303010126      \n",
       "9 303010185      \n",
       "  NO_PROCEDIMENTO                                                                                                                                                                                                                                           \n",
       "1 TESTE TREPONEMICO P/ DETECÇÃO DE SIFILIS                                                                                                                                                                                                                  \n",
       "2 TESTE NÃO TREPONEMICO P/ DETECÇÃO DE SIFILIS                                                                                                                                                                                                              \n",
       "3 TESTE FTA-ABS IGG P/ DIAGNOSTICO DA SIFILIS                                                                                                                                                                                                               \n",
       "4 TESTE FTA-ABS IGM P/ DIAGNOSTICO DA SIFILIS                                                                                                                                                                                                               \n",
       "5 TESTE NÃO TREPONEMICO P/ DETECÇÃO DE SIFILIS EM GESTANTES                                                                                                                                                                                                 \n",
       "6 TESTE RÁPIDO PARA SÍFILIS                                                                                                                                                                                                                                 \n",
       "7 TESTE RÁPIDO PARA SÍFILIS NA GESTANTE OU PAI/PARCEIRO                                                                                                                                                                                                     \n",
       "8 TRATAMENTO DE INFECÇÕES DE TRANSMISSÃO PREDOMINANTEMENTE SEXUAL (A50 A A64)                                                                                                                                                                               \n",
       "9 TRATAMENTO DE OUTRAS DOENÇAS CAUSADAS POR ESPIROQUETAS (A65 A A69)                                                                                                                                                                                        "
      ]
     },
     "metadata": {},
     "output_type": "display_data"
    }
   ],
   "source": [
    "sifilis"
   ]
  },
  {
   "cell_type": "code",
   "execution_count": 20,
   "metadata": {},
   "outputs": [],
   "source": [
    "write.csv2(sifilis, \"procedimentos_sifilis.csv\", row.names=FALSE)"
   ]
  },
  {
   "cell_type": "code",
   "execution_count": null,
   "metadata": {},
   "outputs": [],
   "source": []
  }
 ],
 "metadata": {
  "kernelspec": {
   "display_name": "R",
   "language": "R",
   "name": "ir"
  },
  "language_info": {
   "codemirror_mode": "r",
   "file_extension": ".r",
   "mimetype": "text/x-r-source",
   "name": "R",
   "pygments_lexer": "r",
   "version": "3.4.2"
  }
 },
 "nbformat": 4,
 "nbformat_minor": 2
}
