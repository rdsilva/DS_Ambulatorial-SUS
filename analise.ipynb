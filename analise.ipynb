{
 "cells": [
  {
   "cell_type": "markdown",
   "metadata": {},
   "source": [
    "## Produção Ambulatorial no RN - 2011 à 2016\n",
    "\n",
    "- AM : APAC de Medicamentos\n",
    "- AD : APAC de Laudos Diversos\n",
    "- BI : Boletim Individualizado"
   ]
  },
  {
   "cell_type": "markdown",
   "metadata": {},
   "source": [
    "### 1. Dependencias"
   ]
  },
  {
   "cell_type": "code",
   "execution_count": 1,
   "metadata": {},
   "outputs": [],
   "source": [
    "library(\"read.dbc\")"
   ]
  },
  {
   "cell_type": "code",
   "execution_count": null,
   "metadata": {},
   "outputs": [],
   "source": []
  },
  {
   "cell_type": "markdown",
   "metadata": {},
   "source": [
    "### 2. Variaveis"
   ]
  },
  {
   "cell_type": "code",
   "execution_count": 2,
   "metadata": {},
   "outputs": [
    {
     "data": {
      "text/html": [
       "'/Users/rsilva/Documents/Estudos/Ambulatorial'"
      ],
      "text/latex": [
       "'/Users/rsilva/Documents/Estudos/Ambulatorial'"
      ],
      "text/markdown": [
       "'/Users/rsilva/Documents/Estudos/Ambulatorial'"
      ],
      "text/plain": [
       "[1] \"/Users/rsilva/Documents/Estudos/Ambulatorial\""
      ]
     },
     "metadata": {},
     "output_type": "display_data"
    }
   ],
   "source": [
    "getwd()"
   ]
  },
  {
   "cell_type": "code",
   "execution_count": 3,
   "metadata": {},
   "outputs": [],
   "source": [
    "path_dados <- '/Users/rsilva/Documents/Estudos/Ambulatorial/Dados'"
   ]
  },
  {
   "cell_type": "code",
   "execution_count": 12,
   "metadata": {},
   "outputs": [],
   "source": [
    "path_save <- '/Users/rsilva/Documents/Estudos/Ambulatorial'"
   ]
  },
  {
   "cell_type": "code",
   "execution_count": 10,
   "metadata": {},
   "outputs": [],
   "source": [
    "proc <- read.csv2(\"so_procedimentos.csv\", header=TRUE)"
   ]
  },
  {
   "cell_type": "markdown",
   "metadata": {},
   "source": [
    "### 3. Funções"
   ]
  },
  {
   "cell_type": "code",
   "execution_count": 20,
   "metadata": {},
   "outputs": [],
   "source": [
    "reduce_AM = function(data){\n",
    "    tmp <- lapply(data, function(x) subset(x, select = c(\n",
    "                                                        \"AP_AUTORIZ\",\n",
    "                                                        \"AP_APACANT\",\n",
    "                                                        \"AP_CMP\",\n",
    "                                                        \"AP_PRIPAL\",\n",
    "                                                        \"AP_VL_AP\",\n",
    "                                                        \"AP_TPUPS\",\n",
    "                                                        \"AP_NUIDADE\",\n",
    "                                                        \"AP_SEXO\",\n",
    "                                                        \"AP_RACACOR\",\n",
    "                                                        \"AP_CEPPCN\",\n",
    "                                                        \"AP_UFDIF\",\n",
    "                                                        \"AP_MNDIF\",\n",
    "                                                        \"AP_DTINIC\",\n",
    "                                                        \"AP_DTFIM\",\n",
    "                                                        \"AP_TPAPAC\",\n",
    "                                                        \"AP_MOTSAI\",\n",
    "                                                        \"AP_OBITO\",\n",
    "                                                        \"AP_ENCERR\",\n",
    "                                                        \"AP_PERMAN\",\n",
    "                                                        \"AP_ALTA\",\n",
    "                                                        \"AP_TRANSF\",\n",
    "                                                        \"AP_CIDCAS\",\n",
    "                                                        \"AP_CIDPRI\",\n",
    "                                                        \"AP_CIDSEC\",\n",
    "                                                        \"AP_ETNIA\",\n",
    "                                                        \"AM_PESO\",\n",
    "                                                        \"AM_ALTURA\",\n",
    "                                                        \"AM_TRANSPL\",\n",
    "                                                        \"AM_QTDTRAN\",\n",
    "                                                        \"AM_GESTANT\")))\n",
    "\n",
    "    return(tmp)\n",
    "}"
   ]
  },
  {
   "cell_type": "code",
   "execution_count": 22,
   "metadata": {},
   "outputs": [],
   "source": [
    "reduce_AD = function(data){\n",
    "    tmp <- lapply(data, function(x) subset(x, select = c(\n",
    "                                                        \"AP_AUTORIZ\",\n",
    "                                                        \"AP_APACANT\",\n",
    "                                                        \"AP_CMP\",\n",
    "                                                        \"AP_PRIPAL\",\n",
    "                                                        \"AP_VL_AP\",\n",
    "                                                        \"AP_TPUPS\",\n",
    "                                                        \"AP_CNSPCN\",\n",
    "                                                        \"AP_NUIDADE\",\n",
    "                                                        \"AP_SEXO\",\n",
    "                                                        \"AP_RACACOR\",\n",
    "                                                        \"AP_CEPPCN\",\n",
    "                                                        \"AP_UFDIF\",\n",
    "                                                        \"AP_MNDIF\",\n",
    "                                                        \"AP_DTINIC\",\n",
    "                                                        \"AP_DTFIM\",\n",
    "                                                        \"AP_TPAPAC\",\n",
    "                                                        \"AP_MOTSAI\",\n",
    "                                                        \"AP_OBITO\",\n",
    "                                                        \"AP_ENCERR\",\n",
    "                                                        \"AP_PERMAN\",\n",
    "                                                        \"AP_ALTA\",\n",
    "                                                        \"AP_TRANSF\",\n",
    "                                                        \"AP_CIDCAS\",\n",
    "                                                        \"AP_CIDPRI\",\n",
    "                                                        \"AP_CIDSEC\",\n",
    "                                                        \"AP_ETNIA\")))\n",
    "\n",
    "    return(tmp)\n",
    "}"
   ]
  },
  {
   "cell_type": "code",
   "execution_count": 32,
   "metadata": {},
   "outputs": [],
   "source": [
    "reduce_BI = function(data){\n",
    "    tmp <- lapply(data, function(x) subset(x, select = c(\n",
    "                                                        \"TPUPS\",\n",
    "                                                        \"DT_ATEND\",\n",
    "                                                        \"PROC_ID\",\n",
    "                                                        \"CBOPROF\",\n",
    "                                                        \"CIDPRI\",\n",
    "                                                        \"CNS_PAC\",\n",
    "                                                        \"DTNASC\",\n",
    "                                                        \"IDADEPAC\",\n",
    "                                                        \"SEXOPAC\",\n",
    "                                                        \"RACACOR\",\n",
    "                                                        \"VL_APRES\",\n",
    "                                                        \"VL_APROV\",\n",
    "                                                        \"MNDIF\")))\n",
    "\n",
    "    return(tmp)\n",
    "}"
   ]
  },
  {
   "cell_type": "code",
   "execution_count": null,
   "metadata": {},
   "outputs": [],
   "source": []
  },
  {
   "cell_type": "markdown",
   "metadata": {},
   "source": [
    "### 4. Estudos"
   ]
  },
  {
   "cell_type": "markdown",
   "metadata": {},
   "source": [
    "#### 4.1 - APAC Medicamentos"
   ]
  },
  {
   "cell_type": "code",
   "execution_count": 29,
   "metadata": {},
   "outputs": [],
   "source": [
    "setwd(path_dados)"
   ]
  },
  {
   "cell_type": "code",
   "execution_count": 8,
   "metadata": {},
   "outputs": [],
   "source": [
    "medic <- read.dbc(\"AMRN1601.dbc\")"
   ]
  },
  {
   "cell_type": "code",
   "execution_count": 9,
   "metadata": {},
   "outputs": [
    {
     "data": {
      "text/plain": [
       "    AP_MVM      AP_CONDIC   AP_GESTAO       AP_CODUNI             AP_AUTORIZ   \n",
       " 201601:22378   EP:22378   240000:22378   4013581:14415   2415200738742:    3  \n",
       "                                          6011063:  701   2415200747553:    3  \n",
       "                                          6014941:  975   2415200759422:    3  \n",
       "                                          6022219: 1651   2415200768079:    3  \n",
       "                                          6022383: 1471   2415200795040:    3  \n",
       "                                          6047904: 3165   2415200795051:    3  \n",
       "                                                          (Other)      :22360  \n",
       "    AP_CMP           AP_PRIPAL        AP_VL_AP         AP_UFMUN     AP_TPUPS  \n",
       " 201511:   11   0604620039: 2091   Min.   :   0.00   240020:  701   43:22378  \n",
       " 201512:   62   0604230028: 1793   1st Qu.:   0.00   240200: 1471             \n",
       " 201601:22305   0604040040: 1611   Median :   0.00   240310:  975             \n",
       "                0604360029: 1319   Mean   :  15.63   240800: 3165             \n",
       "                0604230044:  881   3rd Qu.:   0.00   240810:14415             \n",
       "                0604040075:  859   Max.   :2897.40   240940: 1651             \n",
       "                (Other)   :13824                                              \n",
       " AP_TIPPRE  AP_MN_IND          AP_CNPJCPF             AP_CNPJMNT   \n",
       " 00:22378   M:22378   08241754000145:22378   08241754000145:22378  \n",
       "                                                                   \n",
       "                                                                   \n",
       "                                                                   \n",
       "                                                                   \n",
       "                                                                   \n",
       "                                                                   \n",
       " AP_CNSPCN                                             AP_COIDADE\n",
       " \\x82{}\\x83{}|\\x81\\x82\\x84\\x83|\\177\\x81\\x84   :    4   2:    1   \n",
       " \\x83\\x84\\x83{{{{\\x83\\x83\\x80|\\x83\\x83}\\x82   :    4   3:   10   \n",
       " \\x83\\x84\\x83{{{}\\x82|\\x80\\x81\\x80\\x84\\x83\\x82:    4   4:22354   \n",
       " \\x83\\x84\\x83{{{\\177\\x80\\x82\\177\\x83\\x81{|\\x82:    4   5:   13   \n",
       " \\x83\\x84\\x83{{}\\x84{~\\x82\\x82{\\x83\\x84~      :    4             \n",
       " |}~\\177~\\x82\\x84|\\x84\\x80\\x80{{{{            :    4             \n",
       " (Other)                                      :22354             \n",
       "   AP_NUIDADE    AP_SEXO   AP_RACACOR   AP_MUNPCN    AP_UFNACIO \n",
       " 65     :  463   F:13810   01: 6540   240810 :8643   010:22378  \n",
       " 66     :  455   M: 8568   02:  554   240800 :2497              \n",
       " 68     :  433             03:12314   240325 :1437              \n",
       " 52     :  400             04:  695   240200 : 842              \n",
       " 58     :  399             99: 2275   240020 : 551              \n",
       " 59     :  398                        240310 : 528              \n",
       " (Other):19830                        (Other):7880              \n",
       "    AP_CEPPCN     AP_UFDIF  AP_MNDIF     AP_DTINIC         AP_DTFIM   \n",
       " 59015300: 5865   0:22304   1:22378   20151218:  610   20160229:8203  \n",
       " 59300000:  467   1:   74             20151229:  512   20160131:7138  \n",
       " 59290000:  434                       20151221:  499   20160331:6865  \n",
       " 59380000:  273                       20151214:  488   20160224:  50  \n",
       " 59650000:  272                       20151118:  448   20160222:  17  \n",
       " 59900000:  245                       20151203:  448   20160124:  10  \n",
       " (Other) :14822                       (Other) :19373   (Other) :  95  \n",
       " AP_TPATEN  AP_TPAPAC AP_MOTSAI  AP_OBITO  AP_ENCERR AP_PERMAN AP_ALTA  \n",
       " 06:22378   1: 7000   21:22359   0:22376   0:22363   0:   19   0:22378  \n",
       "            2:15378   31:    2   1:    2   1:   15   1:22359            \n",
       "                      42:    1                                          \n",
       "                      43:    1                                          \n",
       "                      51:   15                                          \n",
       "                                                                        \n",
       "                                                                        \n",
       " AP_TRANSF    AP_DTOCOR          AP_CODEMI     AP_CATEND  AP_APACANT  \n",
       " 0:22376   20160127:    4   E240000001:22304   01:22378   NA's:22378  \n",
       " 1:    2   20160121:    3   E250000001:   29                          \n",
       "           20160118:    2   E230000001:   26                          \n",
       "           20160122:    2   E530000001:    7                          \n",
       "           20160129:    2   E260000001:    6                          \n",
       "           (Other) :    6   E520000001:    2                          \n",
       "           NA's    :22359   (Other)   :    4                          \n",
       "   AP_UNISOL        AP_DTSOLIC        AP_DTAUT     AP_CIDCAS      AP_CIDPRI   \n",
       " 2653982: 2843   20151201:  696   20151218:  611   0000:22378   F200   :4150  \n",
       " 2503557: 1190   20151103:  539   20151229:  518                J450   :2395  \n",
       " 6347223:  893   20151203:  529   20151221:  498                E780   :2079  \n",
       " 2503689:  821   20160104:  525   20151214:  476                M815   :1901  \n",
       " 2409275:  572   20151202:  490   20160107:  445                N180   :1648  \n",
       " 2410257:  506   20151210:  482   20151203:  444                G300   :1131  \n",
       " (Other):15553   (Other) :19117   (Other) :19386                (Other):9074  \n",
       " AP_CIDSEC    AP_ETNIA        AM_PESO        AM_ALTURA     AM_TRANSPL\n",
       " 0000:22378   NA's:22378   060    : 1411   160    : 2547   N:22378   \n",
       "                           070    : 1155   165    : 1750             \n",
       "                           065    : 1049   170    : 1362             \n",
       "                           068    :  846   155    : 1342             \n",
       "                           062    :  715   150    : 1331             \n",
       "                           080    :  668   158    :  935             \n",
       "                           (Other):16534   (Other):13111             \n",
       " AM_QTDTRAN AM_GESTANT\n",
       " 00:22378   N:22374   \n",
       "            S:    4   \n",
       "                      \n",
       "                      \n",
       "                      \n",
       "                      \n",
       "                      "
      ]
     },
     "metadata": {},
     "output_type": "display_data"
    }
   ],
   "source": [
    "summary(medic)"
   ]
  },
  {
   "cell_type": "code",
   "execution_count": 18,
   "metadata": {},
   "outputs": [],
   "source": [
    "laudos <- read.dbc(\"ADRN1601.dbc\")"
   ]
  },
  {
   "cell_type": "code",
   "execution_count": 19,
   "metadata": {},
   "outputs": [
    {
     "data": {
      "text/plain": [
       "    AP_MVM     AP_CONDIC   AP_GESTAO      AP_CODUNI            AP_AUTORIZ  \n",
       " 201601:3425   EP: 148   240810 :2140   2409135: 687   2415207288527:   1  \n",
       "               PG:3277   240940 : 509   2693666: 391   2415207349753:   1  \n",
       "                         240800 : 216   2693550: 380   2415207349764:   1  \n",
       "                         240200 : 174   2653982: 267   2415207349841:   1  \n",
       "                         240000 : 148   8006210: 173   2415207349874:   1  \n",
       "                         240580 :  89   2654253: 141   2415207359136:   1  \n",
       "                         (Other): 149   (Other):1386   (Other)      :3419  \n",
       "    AP_CMP          AP_PRIPAL       AP_VL_AP         AP_UFMUN    AP_TPUPS \n",
       " 201512:   1   0405050372: 732   Min.   :   0.0   240810 :2226   04:  16  \n",
       " 201601:3424   0301070032: 423   1st Qu.: 135.0   240940 : 509   05: 375  \n",
       "               0211070092: 399   Median : 226.4   240800 : 276   07: 261  \n",
       "               0211020010: 346   Mean   : 384.2   240200 : 174   21:  43  \n",
       "               0211070106: 222   3rd Qu.: 643.0   240580 :  89   36:1668  \n",
       "               0405050020: 222   Max.   :4500.0   241150 :  34   39: 771  \n",
       "               (Other)   :1081                    (Other): 117   62: 291  \n",
       " AP_TIPPRE AP_MN_IND          AP_CNPJCPF            AP_CNPJMNT  \n",
       " 00:3425   I:3089    08587107000190: 687   08234148000100:  28  \n",
       "           M: 336    05503972000112: 391   08241754000145:  40  \n",
       "                     05536327000104: 380   08428765000139:   1  \n",
       "                     24365710001317: 267   24365710000183: 267  \n",
       "                     02766875000205: 173   NA's          :3089  \n",
       "                     70150750000125: 141                        \n",
       "                     (Other)       :1386                        \n",
       " AP_CNSPCN                                            AP_COIDADE   AP_NUIDADE  \n",
       " \\x82{\\x84\\x83{\\x83{\\x82|}\\x80\\177~\\x84\\x84   :   4   2:  13     65     : 102  \n",
       " }{\\x81\\x82\\x84\\x84\\x81~\\x80\\x80\\x83{{{\\x83   :   3   3:  92     75     :  97  \n",
       " \\x82{\\177{{}|}\\x82\\x83|\\x80|\\x82{            :   3   4:3319     69     :  87  \n",
       " \\x82{{}{}\\x84~\\x82|\\x84~\\177}~               :   3   5:   1     68     :  83  \n",
       " \\x82{{\\x80{}|||\\177\\x82\\177|\\x80{            :   3              71     :  82  \n",
       " \\x82{{\\x80{\\x82~\\x81\\x84\\x81{\\x82\\x81\\x80\\x83:   3              63     :  79  \n",
       " (Other)                                      :3406              (Other):2895  \n",
       " AP_SEXO  AP_RACACOR   AP_MUNPCN    AP_UFNACIO    AP_CEPPCN    AP_UFDIF\n",
       " F:1885   01:  73    240810 :1289   010:3424   59900000: 155   0:3406  \n",
       " M:1540   02:   5    240800 : 221   201:   1   59280000:  76   1:  19  \n",
       "          03: 324    240325 : 157              59010000:  66           \n",
       "          04:   6    240940 : 155              59290000:  66           \n",
       "          99:3017    240710 :  77              59550000:  50           \n",
       "                     241200 :  66              59138800:  47           \n",
       "                     (Other):1460              (Other) :2965           \n",
       " AP_MNDIF    AP_DTINIC        AP_DTFIM    AP_TPATEN AP_TPAPAC AP_MOTSAI\n",
       " 1:3425   20160101:3196   20160131:2966   00:3425   1: 179    11: 387  \n",
       "          20160130:  48   20160331: 203             2:  22    12: 698  \n",
       "          20160126:  40   20160330:  64             3:3224    15:2135  \n",
       "          20160119:  31   20160130:  46                       16:   1  \n",
       "          20160110:  19   20160119:  30                       18:  13  \n",
       "          20151201:  18   20160124:  19                       21: 190  \n",
       "          (Other) :  73   (Other) :  97                       26:   1  \n",
       " AP_OBITO AP_ENCERR AP_PERMAN AP_ALTA  AP_TRANSF    AP_DTOCOR   \n",
       " 0:3425   0:3425    0:3234    0: 191   0:3425    20160131:1649  \n",
       "                    1: 191    1:3234             20160101: 256  \n",
       "                                                 20160130: 153  \n",
       "                                                 20160120: 112  \n",
       "                                                 20160105:  85  \n",
       "                                                 (Other) : 980  \n",
       "                                                 NA's    : 190  \n",
       "      AP_CODEMI    AP_CATEND         AP_APACANT     AP_UNISOL   \n",
       " M240810001:1274   01:3422   0000000000000:2648   0000000:1077  \n",
       " M240810201: 448   02:   3   0            : 219   2409135: 687  \n",
       " M240940707: 380             2414208147219:   3   2653982: 267  \n",
       " M240800001: 367             2414208299459:   3   2654253: 141  \n",
       " E240000001: 270             2414208301945:   3   2380463: 135  \n",
       " M240200601: 173             2415207099052:   3   2687895: 129  \n",
       " (Other)   : 513             (Other)      : 546   (Other): 989  \n",
       "    AP_DTSOLIC       AP_DTAUT      AP_CIDCAS      AP_CIDPRI    AP_CIDSEC  \n",
       " 20160101:1164   20160131:1503   0000   :3003   H905   :1037   0000:3421  \n",
       " 20160131: 383   20160101: 516   H250   : 153   H250   : 304   N189:   4  \n",
       " 20160107: 143   20160120: 125   H264   :  86   H903   : 284              \n",
       " 20160126:  86   20160107:  76   H259   :  82   H258   : 261              \n",
       " 20160129:  77   20160129:  68   N200   :  80   H264   : 222              \n",
       " (Other) :1492   (Other) :1057   H269   :  17   H907   : 177              \n",
       " NA's    :  80   NA's    :  80   (Other):   4   (Other):1140              \n",
       " AP_ETNIA   \n",
       " NA's:3425  \n",
       "            \n",
       "            \n",
       "            \n",
       "            \n",
       "            \n",
       "            "
      ]
     },
     "metadata": {},
     "output_type": "display_data"
    }
   ],
   "source": [
    "summary(laudos)"
   ]
  },
  {
   "cell_type": "code",
   "execution_count": 30,
   "metadata": {},
   "outputs": [],
   "source": [
    "boletim <- read.dbc(\"BIRN1601.dbc\")"
   ]
  },
  {
   "cell_type": "code",
   "execution_count": 31,
   "metadata": {},
   "outputs": [
    {
     "data": {
      "text/plain": [
       "     CODUNI          GESTAO      CONDIC         UFMUN           TPUPS      \n",
       " 6742017:13516   240200 :20855   EP:14362   240810 :29283   05     :24068  \n",
       " 6778550:10774   240810 :19073   PG:85776   240200 :21576   36     :20103  \n",
       " 2409194: 5051   240000 :14362              240710 :13861   39     :17776  \n",
       " 2665778: 3199   240710 :13861              240800 : 7010   73     :13762  \n",
       " 2375494: 2373   240800 : 5295              240325 : 3729   07     : 8499  \n",
       " 2381451: 2273   240940 : 3461              240940 : 3630   02     : 4799  \n",
       " (Other):62952   (Other):23231              (Other):21049   (Other):11131  \n",
       " TIPPRE      MN_IND              CNPJCPF                CNPJMNT     \n",
       " 00:100138   I:34814   08241754000145:15882   00000000000000:35584  \n",
       "             M:65324   08234148000100:13780   08241754000145:23229  \n",
       "                       08428765000309: 5051   08234148000100:13780  \n",
       "                       08069577000161: 3199   08428765000139: 6186  \n",
       "                       08087561000181: 2373   24365710000183: 3309  \n",
       "                       08096570000139: 2317   08087561000181: 2373  \n",
       "                       (Other)       :57536   (Other)       :15677  \n",
       "           CNPJ_CC        DT_PROCESS       DT_ATEND           PROC_ID     \n",
       " 00000000000000:100136   201601:100138   201510:   48   0204030188: 7665  \n",
       " 08587107000190:     2                   201511: 5044   0203010086: 6747  \n",
       "                                         201512: 3734   0301060061: 5321  \n",
       "                                         201601:91312   0301100012: 4719  \n",
       "                                                        0301060118: 4063  \n",
       "                                                        0301060029: 3558  \n",
       "                                                        (Other)   :68065  \n",
       " TPFIN       SUBFIN      COMPLEX            AUTORIZ     \n",
       " 01: 1275   0000:88302   0: 4251   0000000000000:68397  \n",
       " 04:11836   0032:  630   1: 1275   0000002381451:  803  \n",
       " 05:   51   0046: 4952   2:82895   0000000000001:  662  \n",
       " 06:86976   0047:  101   3:11717   0000002766639:  404  \n",
       "            0048:   58             0000000000010:  230  \n",
       "            0055:  861             0000031012016:   36  \n",
       "            0057: 5234             (Other)      :29606  \n",
       "            CNSPROF         CBOPROF          CIDPRI      CATEND    \n",
       " 207283294540009: 6331   225320 :23294   0000   :77568   01:80675  \n",
       " 980016281285978: 5394   223415 :17412   Z000   : 2026   02:19442  \n",
       " 123697738650001: 4030   225125 : 9673   Z129   : 1602   03:    5  \n",
       " 980016296891658: 3122   223505 : 9504   Z523   : 1308   04:    4  \n",
       " 980016285872061: 2783   223605 : 6099   H905   :  862   05:   12  \n",
       " 121305957250003: 2703   225225 : 5927   Z139   :  766             \n",
       " (Other)        :75775   (Other):28229   (Other):16006             \n",
       " CNS_PAC                                                       DTNASC     \n",
       " \\x83\\x84\\x83{{\\177{\\x81\\x82|\\x81\\x82\\177\\x83\\177:   55   19600718:   56  \n",
       " \\x82{{|{\\x82\\x84|{\\x82}\\x84}|}                  :   44   19740414:   46  \n",
       " \\x82{\\x83}{~|{{\\x82|\\x83}\\177\\x84               :   43   20121004:   46  \n",
       " \\x83\\x84\\x83{{~}|\\x80{\\177\\x83\\x82~\\x83         :   37   19840512:   45  \n",
       " \\x83\\x84\\x83{{\\177\\x80\\177~\\x80~\\x80{|\\x81      :   34   20150307:   45  \n",
       " (Other)                                         :94207   20030101:   44  \n",
       " NA's                                            : 5718   (Other) :99856  \n",
       " TPIDADEPAC    IDADEPAC     SEXOPAC   RACACOR        MUNPAC     \n",
       " 2:  687    51     : 2009   F:66911   01:13180   240810 :17526  \n",
       " 3: 1270    47     : 1769   M:33227   02: 1563   240200 :16778  \n",
       " 4:97360    50     : 1759             03:35704   240710 :13294  \n",
       " 5:   71    48     : 1739             04: 3679   240800 : 4997  \n",
       " 9:  750    52     : 1729             05:   11   240325 : 4642  \n",
       "            53     : 1728             99:46001   241200 : 3841  \n",
       "            (Other):89405                        (Other):39060  \n",
       "    QT_APRES         QT_APROV         VL_APRES          VL_APROV      \n",
       " Min.   : 1.000   Min.   : 0.000   Min.   :   0.00   Min.   :   0.00  \n",
       " 1st Qu.: 1.000   1st Qu.: 1.000   1st Qu.:   6.97   1st Qu.:   6.97  \n",
       " Median : 1.000   Median : 1.000   Median :  13.51   Median :  12.47  \n",
       " Mean   : 1.517   Mean   : 1.443   Mean   :  40.22   Mean   :  39.19  \n",
       " 3rd Qu.: 1.000   3rd Qu.: 1.000   3rd Qu.:  45.00   3rd Qu.:  45.00  \n",
       " Max.   :60.000   Max.   :60.000   Max.   :1279.60   Max.   :1279.60  \n",
       "                                                                      \n",
       " UFDIF     MNDIF      ETNIA       \n",
       " 0:99863   0:72742   0188:    11  \n",
       " 1:  275   1:27396   NA's:100127  \n",
       "                                  \n",
       "                                  \n",
       "                                  \n",
       "                                  \n",
       "                                  "
      ]
     },
     "metadata": {},
     "output_type": "display_data"
    }
   ],
   "source": [
    "summary(boletim)"
   ]
  },
  {
   "cell_type": "code",
   "execution_count": null,
   "metadata": {},
   "outputs": [],
   "source": []
  },
  {
   "cell_type": "code",
   "execution_count": null,
   "metadata": {},
   "outputs": [],
   "source": []
  },
  {
   "cell_type": "code",
   "execution_count": null,
   "metadata": {},
   "outputs": [],
   "source": []
  },
  {
   "cell_type": "markdown",
   "metadata": {},
   "source": [
    "### 5. Reducing Data"
   ]
  },
  {
   "cell_type": "markdown",
   "metadata": {},
   "source": [
    "#### 5.1. Medicamentos"
   ]
  },
  {
   "cell_type": "code",
   "execution_count": 13,
   "metadata": {},
   "outputs": [],
   "source": [
    "pattern <- \"AM\""
   ]
  },
  {
   "cell_type": "code",
   "execution_count": 14,
   "metadata": {},
   "outputs": [
    {
     "data": {
      "text/html": [
       "<table>\n",
       "<thead><tr><th></th><th scope=col>used</th><th scope=col>(Mb)</th><th scope=col>gc trigger</th><th scope=col>(Mb)</th><th scope=col>max used</th><th scope=col>(Mb)</th></tr></thead>\n",
       "<tbody>\n",
       "\t<tr><th scope=row>Ncells</th><td>  1471503</td><td>  78.6   </td><td>  3615902</td><td> 193.2   </td><td>  3615902</td><td> 193.2   </td></tr>\n",
       "\t<tr><th scope=row>Vcells</th><td>133249063</td><td>1016.7   </td><td>225371411</td><td>1719.5   </td><td>225340832</td><td>1719.3   </td></tr>\n",
       "</tbody>\n",
       "</table>\n"
      ],
      "text/latex": [
       "\\begin{tabular}{r|llllll}\n",
       "  & used & (Mb) & gc trigger & (Mb) & max used & (Mb)\\\\\n",
       "\\hline\n",
       "\tNcells &   1471503 &   78.6    &   3615902 &  193.2    &   3615902 &  193.2   \\\\\n",
       "\tVcells & 133249063 & 1016.7    & 225371411 & 1719.5    & 225340832 & 1719.3   \\\\\n",
       "\\end{tabular}\n"
      ],
      "text/markdown": [
       "\n",
       "| <!--/--> | used | (Mb) | gc trigger | (Mb) | max used | (Mb) | \n",
       "|---|---|\n",
       "| Ncells |   1471503 |   78.6    |   3615902 |  193.2    |   3615902 |  193.2    | \n",
       "| Vcells | 133249063 | 1016.7    | 225371411 | 1719.5    | 225340832 | 1719.3    | \n",
       "\n",
       "\n"
      ],
      "text/plain": [
       "       used      (Mb)   gc trigger (Mb)   max used  (Mb)  \n",
       "Ncells   1471503   78.6   3615902   193.2   3615902  193.2\n",
       "Vcells 133249063 1016.7 225371411  1719.5 225340832 1719.3"
      ]
     },
     "metadata": {},
     "output_type": "display_data"
    }
   ],
   "source": [
    "filestrsave <- \"apac-medicamento_08-18.csv\"\n",
    "\n",
    "# listando os arquivos\n",
    "listoffiles <- list.files(path_dados, pattern = pattern)\n",
    "\n",
    "# abrindo os arquivos\n",
    "setwd(path_dados)\n",
    "myfiles = lapply(listoffiles, read.dbc)\n",
    "\n",
    "# filtrando os arquivos\n",
    "result_tmp <- reduce_AM(myfiles)\n",
    "\n",
    "# unificando todos os arquivos em um só\n",
    "result = do.call(rbind, result_tmp)\n",
    "\n",
    "# salvando o arquivo reduzido\n",
    "setwd(path_save)\n",
    "write.csv2(result, filestrsave, row.names=FALSE)\n",
    "\n",
    "gc()"
   ]
  },
  {
   "cell_type": "code",
   "execution_count": 15,
   "metadata": {},
   "outputs": [
    {
     "data": {
      "text/plain": [
       "         AP_AUTORIZ              AP_APACANT          AP_CMP       \n",
       " 2414200000487:      5   0000000000000: 259419   201709 :  24769  \n",
       " 2408202162300:      4   000000000000 : 444568   201511 :  24655  \n",
       " 2414200001477:      4   NA's         :1455968   201510 :  24327  \n",
       " 2414200017570:      4                           201710 :  24194  \n",
       " 2414200048106:      4                           200807 :  24083  \n",
       " 2414200079918:      4                           201509 :  23980  \n",
       " (Other)      :2159930                           (Other):2013947  \n",
       "      AP_PRIPAL          AP_VL_AP       AP_TPUPS       AP_NUIDADE     \n",
       " 0604620039: 203597   Min.   :   0.00   43:2159652   62     :  44943  \n",
       " 0604040040: 137236   1st Qu.:   0.00   07:    303   63     :  44676  \n",
       " 0601350022: 120209   Median :   0.00                60     :  44258  \n",
       " 0604360029: 107552   Mean   :  61.37                64     :  44237  \n",
       " 0604230028: 103009   3rd Qu.:   8.70                61     :  44216  \n",
       " (Other)   :1488347   Max.   :9898.28                65     :  44183  \n",
       " NA's      :      5                                  (Other):1893442  \n",
       " AP_SEXO       AP_RACACOR        AP_CEPPCN       AP_UFDIF    AP_MNDIF   \n",
       " F:1451560   99     :906658   59015300: 336286   0:2156646   1:2159955  \n",
       " M: 708395   04     :421235   59300000:  48661   1:   3309              \n",
       "             03     :398964   59650000:  36225                          \n",
       "             01     :379193   59150000:  34732                          \n",
       "             02     : 35626   59290000:  30902                          \n",
       "             00     :  9175   59280000:  28913                          \n",
       "             (Other):  9104   (Other) :1644236                          \n",
       "    AP_DTINIC           AP_DTFIM       AP_TPAPAC   AP_MOTSAI    AP_OBITO   \n",
       " 20080102:  11586   20151130:  27864   1: 793266   21:2102164   0:2159917  \n",
       " 20080401:   2778   20160531:  26915   2:1366649   28:  53344   1:     38  \n",
       " 20100405:   2758   20080930:  25068   3:     40   51:   4169              \n",
       " 20080107:   2724   20090630:  24977               31:    240              \n",
       " 20100104:   2578   20171031:  24801               41:     33              \n",
       " 20090401:   2241   20160229:  24423               43:      4              \n",
       " (Other) :2135290   (Other) :2005907               42:      1              \n",
       " AP_ENCERR   AP_PERMAN   AP_ALTA     AP_TRANSF   AP_CIDCAS     \n",
       " 0:2155786   1:2155508   0:2159955   0:2159715   0000:2159955  \n",
       " 1:   4169   0:   4447               1:    240                 \n",
       "                                                               \n",
       "                                                               \n",
       "                                                               \n",
       "                                                               \n",
       "                                                               \n",
       "   AP_CIDPRI        AP_CIDSEC       AP_ETNIA          AM_PESO       \n",
       " M815   :362308   0000   :2159617   9999:     11   000    : 270100  \n",
       " F200   :285387   M815   :     42   0213:     24   060    : 123529  \n",
       " E780   :272107   I120   :     23   0205:     27   065    :  98732  \n",
       " J450   :223013   M810   :     18   0206:      8   070    :  93441  \n",
       " N180   :150966   N189   :     18   NA's:2159885   068    :  78176  \n",
       " G300   :121299   N165   :     17                  058    :  72614  \n",
       " (Other):744875   (Other):    220                  (Other):1423363  \n",
       "   AM_ALTURA       AM_TRANSPL  AM_QTDTRAN   AM_GESTANT \n",
       " 000    : 270162   N:2152371   00:2152355   N:2159590  \n",
       " 160    : 214724   S:   7584   01:   7044   S:    365  \n",
       " 165    : 150038               02:    556              \n",
       " 155    : 118394                                       \n",
       " 150    : 112397                                       \n",
       " 170    : 102979                                       \n",
       " (Other):1191261                                       "
      ]
     },
     "metadata": {},
     "output_type": "display_data"
    }
   ],
   "source": [
    "summary(result)"
   ]
  },
  {
   "cell_type": "code",
   "execution_count": 23,
   "metadata": {},
   "outputs": [
    {
     "data": {
      "text/html": [
       "2159955"
      ],
      "text/latex": [
       "2159955"
      ],
      "text/markdown": [
       "2159955"
      ],
      "text/plain": [
       "[1] 2159955"
      ]
     },
     "metadata": {},
     "output_type": "display_data"
    }
   ],
   "source": [
    "nrow(result)"
   ]
  },
  {
   "cell_type": "markdown",
   "metadata": {},
   "source": [
    "#### 5.2 Laudos Diversos"
   ]
  },
  {
   "cell_type": "code",
   "execution_count": 25,
   "metadata": {},
   "outputs": [],
   "source": [
    "pattern <- \"AD\""
   ]
  },
  {
   "cell_type": "code",
   "execution_count": 26,
   "metadata": {},
   "outputs": [
    {
     "data": {
      "text/html": [
       "<table>\n",
       "<thead><tr><th></th><th scope=col>used</th><th scope=col>(Mb)</th><th scope=col>gc trigger</th><th scope=col>(Mb)</th><th scope=col>max used</th><th scope=col>(Mb)</th></tr></thead>\n",
       "<tbody>\n",
       "\t<tr><th scope=row>Ncells</th><td> 1327972 </td><td> 71.0    </td><td>  3615902</td><td> 193.2   </td><td>  3615902</td><td> 193.2   </td></tr>\n",
       "\t<tr><th scope=row>Vcells</th><td>40443582 </td><td>308.6    </td><td>180297128</td><td>1375.6   </td><td>225370053</td><td>1719.5   </td></tr>\n",
       "</tbody>\n",
       "</table>\n"
      ],
      "text/latex": [
       "\\begin{tabular}{r|llllll}\n",
       "  & used & (Mb) & gc trigger & (Mb) & max used & (Mb)\\\\\n",
       "\\hline\n",
       "\tNcells &  1327972  &  71.0     &   3615902 &  193.2    &   3615902 &  193.2   \\\\\n",
       "\tVcells & 40443582  & 308.6     & 180297128 & 1375.6    & 225370053 & 1719.5   \\\\\n",
       "\\end{tabular}\n"
      ],
      "text/markdown": [
       "\n",
       "| <!--/--> | used | (Mb) | gc trigger | (Mb) | max used | (Mb) | \n",
       "|---|---|\n",
       "| Ncells |  1327972  |  71.0     |   3615902 |  193.2    |   3615902 |  193.2    | \n",
       "| Vcells | 40443582  | 308.6     | 180297128 | 1375.6    | 225370053 | 1719.5    | \n",
       "\n",
       "\n"
      ],
      "text/plain": [
       "       used     (Mb)  gc trigger (Mb)   max used  (Mb)  \n",
       "Ncells  1327972  71.0   3615902   193.2   3615902  193.2\n",
       "Vcells 40443582 308.6 180297128  1375.6 225370053 1719.5"
      ]
     },
     "metadata": {},
     "output_type": "display_data"
    }
   ],
   "source": [
    "filestrsave <- \"apac-laudos_08-18.csv\"\n",
    "\n",
    "# listando os arquivos\n",
    "listoffiles <- list.files(path_dados, pattern = pattern)\n",
    "\n",
    "# abrindo os arquivos\n",
    "setwd(path_dados)\n",
    "myfiles = lapply(listoffiles, read.dbc)\n",
    "\n",
    "# filtrando os arquivos\n",
    "result_tmp <- reduce_AD(myfiles)\n",
    "\n",
    "# unificando todos os arquivos em um só\n",
    "result = do.call(rbind, result_tmp)\n",
    "\n",
    "# salvando o arquivo reduzido\n",
    "setwd(path_save)\n",
    "write.csv2(result, filestrsave, row.names=FALSE)\n",
    "\n",
    "gc()"
   ]
  },
  {
   "cell_type": "code",
   "execution_count": 27,
   "metadata": {},
   "outputs": [
    {
     "data": {
      "text/plain": [
       "         AP_AUTORIZ             AP_APACANT         AP_CMP      \n",
       " 2408204337176:     5   0000000000000:598825   201106 :  8120  \n",
       " 2408204337187:     5   0            :  9241   201207 :  8112  \n",
       " 2408204337209:     5   2415207245803:    18   201107 :  7932  \n",
       " 2408200070320:     4   2415207168540:    13   201208 :  7699  \n",
       " 2408204008023:     4   2416207274305:    13   201105 :  7580  \n",
       " 2408200216642:     4   (Other)      : 54926   201206 :  7559  \n",
       " (Other)      :663058   NA's         :    49   (Other):616083  \n",
       "      AP_PRIPAL         AP_VL_AP         AP_TPUPS     \n",
       " 0405050372:117107   Min.   :   0.0   70     :203802  \n",
       " 0301080100: 82300   1st Qu.:  48.9   36     :195229  \n",
       " 0211070092: 55279   Median : 187.3   39     : 97101  \n",
       " 0301080127: 51462   Mean   : 311.6   05     : 67993  \n",
       " 0301070032: 41738   3rd Qu.: 614.7   62     : 43059  \n",
       " 0301080062: 38676   Max.   :8359.0   04     : 24263  \n",
       " (Other)   :276523                    (Other): 31638  \n",
       "                                   AP_CNSPCN        AP_NUIDADE     AP_SEXO   \n",
       " {{{{{{{{{{{{{{{                        : 22555   67     : 12416   F:356615  \n",
       " \\x83\\x84\\x83{{{{\\x80\\x84|\\x82|\\x82\\x84}:   100   66     : 12190   M:306470  \n",
       " \\x83\\x84\\x83{{{{\\x80\\x84|{\\x83\\177{~   :    97   69     : 12056             \n",
       " \\x83\\x84\\x83{{{{\\x80\\x84|\\x82}{\\x80\\x80:    97   65     : 12019             \n",
       " \\x83\\x84\\x83{{{{\\x80\\x84|\\x83{\\x81{{   :    93   68     : 11934             \n",
       " (Other)                                :640141   63     : 11540             \n",
       " NA's                                   :     2   (Other):590930             \n",
       " AP_RACACOR     AP_CEPPCN      AP_UFDIF   AP_MNDIF      AP_DTINIC     \n",
       " 01: 96664   59000000: 57784   0:657767   1:663084   20110401: 11168  \n",
       " 02: 13078   59600000: 41787   1:  5318   0:     1   20080701: 10578  \n",
       " 03: 71308   59300000: 30024                         20110701: 10334  \n",
       " 04:  7117   59900000: 29690                         20081001: 10223  \n",
       " 05:  2078   59650000: 18482                         20100401: 10185  \n",
       " 99:472840   59150000: 15851                         20080401: 10101  \n",
       "             (Other) :469467                         (Other) :600496  \n",
       "     AP_DTFIM      AP_TPAPAC    AP_MOTSAI      AP_OBITO   AP_ENCERR  AP_PERMAN \n",
       " 20110630: 12073   1:126926   21     :245673   0:663015   0:659422   0:408924  \n",
       " 20080930: 10630   3:391668   15     :245096   1:    70   1:  3663   1:254161  \n",
       " 20090630: 10536   2:144491   12     : 73694                                   \n",
       " 20080630: 10400              11     : 66232                                   \n",
       " 20110331: 10161              18     : 11761                                   \n",
       " 20110930:  9943              16     :  7988                                   \n",
       " (Other) :599342              (Other): 12641                                   \n",
       " AP_ALTA    AP_TRANSF    AP_CIDCAS        AP_CIDPRI        AP_CIDSEC     \n",
       " 0:258251   0:662728   0000   :617528   H905   :104442   0000   :642130  \n",
       " 1:404834   1:   357   H250   : 20451   H903   : 56186   H903   :  8394  \n",
       "                       N200   :  8567   H258   : 48687   N189   :  4030  \n",
       "                       H264   :  5044   H250   : 47751   G40    :  1555  \n",
       "                       H259   :  4526   F200   : 38603   H905   :   345  \n",
       "                       N180   :  2961   Z940   : 20425   N188   :   248  \n",
       "                       (Other):  4008   (Other):346991   (Other):  6383  \n",
       " AP_ETNIA     \n",
       " 9999:   100  \n",
       " 0100:    15  \n",
       " 0001:     8  \n",
       " 0099:     1  \n",
       " NA's:662961  \n",
       "              \n",
       "              "
      ]
     },
     "metadata": {},
     "output_type": "display_data"
    }
   ],
   "source": [
    "summary(result)"
   ]
  },
  {
   "cell_type": "code",
   "execution_count": 28,
   "metadata": {},
   "outputs": [
    {
     "data": {
      "text/html": [
       "663085"
      ],
      "text/latex": [
       "663085"
      ],
      "text/markdown": [
       "663085"
      ],
      "text/plain": [
       "[1] 663085"
      ]
     },
     "metadata": {},
     "output_type": "display_data"
    }
   ],
   "source": [
    "nrow(result)"
   ]
  },
  {
   "cell_type": "markdown",
   "metadata": {},
   "source": [
    "#### 5.3 Boletins Individuais"
   ]
  },
  {
   "cell_type": "code",
   "execution_count": 33,
   "metadata": {},
   "outputs": [],
   "source": [
    "pattern <- \"BI\""
   ]
  },
  {
   "cell_type": "code",
   "execution_count": 34,
   "metadata": {},
   "outputs": [],
   "source": [
    "filestrsave <- \"apac-individuais_08-18.csv\"\n",
    "\n",
    "# listando os arquivos\n",
    "listoffiles <- list.files(path_dados, pattern = pattern)\n",
    "\n",
    "# abrindo os arquivos\n",
    "setwd(path_dados)\n",
    "myfiles = lapply(listoffiles, read.dbc)\n",
    "\n",
    "# filtrando os arquivos\n",
    "result_tmp <- reduce_BI(myfiles)\n",
    "\n",
    "# unificando todos os arquivos em um só\n",
    "result = do.call(rbind, result_tmp)\n",
    "\n",
    "# salvando o arquivo reduzido\n",
    "setwd(path_save)\n",
    "write.csv2(result, filestrsave, row.names=FALSE)\n",
    "\n",
    "gc()"
   ]
  },
  {
   "cell_type": "code",
   "execution_count": null,
   "metadata": {},
   "outputs": [],
   "source": [
    "summary(result)"
   ]
  },
  {
   "cell_type": "code",
   "execution_count": null,
   "metadata": {},
   "outputs": [],
   "source": [
    "nrow(result)"
   ]
  },
  {
   "cell_type": "code",
   "execution_count": null,
   "metadata": {},
   "outputs": [],
   "source": []
  }
 ],
 "metadata": {
  "kernelspec": {
   "display_name": "R",
   "language": "R",
   "name": "ir"
  },
  "language_info": {
   "codemirror_mode": "r",
   "file_extension": ".r",
   "mimetype": "text/x-r-source",
   "name": "R",
   "pygments_lexer": "r",
   "version": "3.4.2"
  }
 },
 "nbformat": 4,
 "nbformat_minor": 2
}
